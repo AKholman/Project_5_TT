{
 "cells": [
  {
   "cell_type": "markdown",
   "id": "6d27ee78-d003-470d-9694-6aff7e666f8d",
   "metadata": {},
   "source": [
    "# <h1 style=\"text-align: center;\">Project 5</h1>\n",
    "## <h1 style=\"text-align: center;\">Data analysis of the online video game store for 2017 campaign  </h1>"
   ]
  },
  {
   "cell_type": "markdown",
   "id": "6b95b156-6fda-4677-9bfe-5358b04d8932",
   "metadata": {},
   "source": [
    "### Introduction \n",
    "This project focuses on analyzing data from an online video game store with the goal of identifying key factors that can inform the strategy for the 2017 campaign. The dataset includes information on total sales, platforms, genres, and reviews, spanning multiple years. Our primary objective is to understand how these factors evolve over time and their impact on sales, while also considering regional differences across North America (NA), Europe (EU), and Japan (JP).\n",
    "\n",
    "The analysis begins with data preprocessing to clean and structure the dataset for further examination. Key parameters such as platform performance, sales trends over the years, genre popularity, and the relationship between reviews and sales will be explored. Specifically, we will investigate which platforms have the highest sales, their lifespan, and the most profitable genres in terms of total sales. Additionally, we will conduct regional analyses to identify trends and differences between NA, EU, and JP markets.\n",
    "\n",
    "By the end of the analysis, we aim to derive actionable insights that will help shape a successful campaign for 2017. The findings will provide a deeper understanding of consumer preferences and market dynamics, which can be leveraged to optimize future strategies in the gaming industry. "
   ]
  },
  {
   "cell_type": "code",
   "execution_count": 3,
   "id": "6c694a90-568a-47bc-adbe-36019fa906fb",
   "metadata": {},
   "outputs": [],
   "source": [
    "#Importing libraries and packages\n",
    "import pandas as pd\n",
    "import numpy as np\n",
    "import matplotlib.pyplot as plt\n",
    "from scipy import stats as st"
   ]
  },
  {
   "cell_type": "markdown",
   "id": "35b2d0f9-d946-4bb9-a645-027bdf50e31e",
   "metadata": {},
   "source": [
    "#### <span style=\"color: blue;\"> Step 1. Loading data and getting general info </span>"
   ]
  },
  {
   "cell_type": "code",
   "execution_count": 5,
   "id": "42c5853b-a765-46fb-84e4-9870c563344f",
   "metadata": {},
   "outputs": [
    {
     "name": "stdout",
     "output_type": "stream",
     "text": [
      "<class 'pandas.core.frame.DataFrame'>\n",
      "RangeIndex: 16715 entries, 0 to 16714\n",
      "Data columns (total 11 columns):\n",
      " #   Column           Non-Null Count  Dtype  \n",
      "---  ------           --------------  -----  \n",
      " 0   Name             16713 non-null  object \n",
      " 1   Platform         16715 non-null  object \n",
      " 2   Year_of_Release  16446 non-null  float64\n",
      " 3   Genre            16713 non-null  object \n",
      " 4   NA_sales         16715 non-null  float64\n",
      " 5   EU_sales         16715 non-null  float64\n",
      " 6   JP_sales         16715 non-null  float64\n",
      " 7   Other_sales      16715 non-null  float64\n",
      " 8   Critic_Score     8137 non-null   float64\n",
      " 9   User_Score       10014 non-null  object \n",
      " 10  Rating           9949 non-null   object \n",
      "dtypes: float64(6), object(5)\n",
      "memory usage: 1.4+ MB\n"
     ]
    }
   ],
   "source": [
    "#loading dataset\n",
    "\n",
    "games = pd.read_csv('games.csv')\n",
    "\n",
    "games.info()"
   ]
  },
  {
   "cell_type": "markdown",
   "id": "ac9f99b2-fc0e-4cb5-ba1d-6bd75ceb5545",
   "metadata": {},
   "source": [
    " #### <span style=\"color: blue;\"> Step 2. Data preparation </span>"
   ]
  },
  {
   "cell_type": "code",
   "execution_count": 7,
   "id": "65de42d5-a9a0-43c1-bb99-ed9ca5d3a423",
   "metadata": {},
   "outputs": [
    {
     "data": {
      "text/html": [
       "<div>\n",
       "<style scoped>\n",
       "    .dataframe tbody tr th:only-of-type {\n",
       "        vertical-align: middle;\n",
       "    }\n",
       "\n",
       "    .dataframe tbody tr th {\n",
       "        vertical-align: top;\n",
       "    }\n",
       "\n",
       "    .dataframe thead th {\n",
       "        text-align: right;\n",
       "    }\n",
       "</style>\n",
       "<table border=\"1\" class=\"dataframe\">\n",
       "  <thead>\n",
       "    <tr style=\"text-align: right;\">\n",
       "      <th></th>\n",
       "      <th>name</th>\n",
       "      <th>platform</th>\n",
       "      <th>year_of_release</th>\n",
       "      <th>genre</th>\n",
       "      <th>na_sales</th>\n",
       "      <th>eu_sales</th>\n",
       "      <th>jp_sales</th>\n",
       "      <th>other_sales</th>\n",
       "      <th>critic_score</th>\n",
       "      <th>user_score</th>\n",
       "      <th>rating</th>\n",
       "    </tr>\n",
       "  </thead>\n",
       "  <tbody>\n",
       "    <tr>\n",
       "      <th>0</th>\n",
       "      <td>Wii Sports</td>\n",
       "      <td>Wii</td>\n",
       "      <td>2006.0</td>\n",
       "      <td>Sports</td>\n",
       "      <td>41.36</td>\n",
       "      <td>28.96</td>\n",
       "      <td>3.77</td>\n",
       "      <td>8.45</td>\n",
       "      <td>76.0</td>\n",
       "      <td>8</td>\n",
       "      <td>E</td>\n",
       "    </tr>\n",
       "    <tr>\n",
       "      <th>1</th>\n",
       "      <td>Super Mario Bros.</td>\n",
       "      <td>NES</td>\n",
       "      <td>1985.0</td>\n",
       "      <td>Platform</td>\n",
       "      <td>29.08</td>\n",
       "      <td>3.58</td>\n",
       "      <td>6.81</td>\n",
       "      <td>0.77</td>\n",
       "      <td>NaN</td>\n",
       "      <td>NaN</td>\n",
       "      <td>NaN</td>\n",
       "    </tr>\n",
       "    <tr>\n",
       "      <th>2</th>\n",
       "      <td>Mario Kart Wii</td>\n",
       "      <td>Wii</td>\n",
       "      <td>2008.0</td>\n",
       "      <td>Racing</td>\n",
       "      <td>15.68</td>\n",
       "      <td>12.76</td>\n",
       "      <td>3.79</td>\n",
       "      <td>3.29</td>\n",
       "      <td>82.0</td>\n",
       "      <td>8.3</td>\n",
       "      <td>E</td>\n",
       "    </tr>\n",
       "    <tr>\n",
       "      <th>3</th>\n",
       "      <td>Wii Sports Resort</td>\n",
       "      <td>Wii</td>\n",
       "      <td>2009.0</td>\n",
       "      <td>Sports</td>\n",
       "      <td>15.61</td>\n",
       "      <td>10.93</td>\n",
       "      <td>3.28</td>\n",
       "      <td>2.95</td>\n",
       "      <td>80.0</td>\n",
       "      <td>8</td>\n",
       "      <td>E</td>\n",
       "    </tr>\n",
       "    <tr>\n",
       "      <th>4</th>\n",
       "      <td>Pokemon Red/Pokemon Blue</td>\n",
       "      <td>GB</td>\n",
       "      <td>1996.0</td>\n",
       "      <td>Role-Playing</td>\n",
       "      <td>11.27</td>\n",
       "      <td>8.89</td>\n",
       "      <td>10.22</td>\n",
       "      <td>1.00</td>\n",
       "      <td>NaN</td>\n",
       "      <td>NaN</td>\n",
       "      <td>NaN</td>\n",
       "    </tr>\n",
       "  </tbody>\n",
       "</table>\n",
       "</div>"
      ],
      "text/plain": [
       "                       name platform  year_of_release         genre  na_sales  \\\n",
       "0                Wii Sports      Wii           2006.0        Sports     41.36   \n",
       "1         Super Mario Bros.      NES           1985.0      Platform     29.08   \n",
       "2            Mario Kart Wii      Wii           2008.0        Racing     15.68   \n",
       "3         Wii Sports Resort      Wii           2009.0        Sports     15.61   \n",
       "4  Pokemon Red/Pokemon Blue       GB           1996.0  Role-Playing     11.27   \n",
       "\n",
       "   eu_sales  jp_sales  other_sales  critic_score user_score rating  \n",
       "0     28.96      3.77         8.45          76.0          8      E  \n",
       "1      3.58      6.81         0.77           NaN        NaN    NaN  \n",
       "2     12.76      3.79         3.29          82.0        8.3      E  \n",
       "3     10.93      3.28         2.95          80.0          8      E  \n",
       "4      8.89     10.22         1.00           NaN        NaN    NaN  "
      ]
     },
     "execution_count": 7,
     "metadata": {},
     "output_type": "execute_result"
    }
   ],
   "source": [
    "games.columns = games.columns.str.lower()  # uppercase to lowercase conversion of the column names\n",
    "games.head()"
   ]
  },
  {
   "cell_type": "code",
   "execution_count": 8,
   "id": "c78b5e89-a4ba-476d-9bcb-1c76325cbfcd",
   "metadata": {},
   "outputs": [
    {
     "data": {
      "text/plain": [
       "0"
      ]
     },
     "execution_count": 8,
     "metadata": {},
     "output_type": "execute_result"
    }
   ],
   "source": [
    "#duplicated values\n",
    "num_duplicates = games.duplicated().sum()  # no wholly duplicated rows\n",
    "num_duplicates\n"
   ]
  },
  {
   "cell_type": "code",
   "execution_count": 9,
   "id": "15106049-a9d0-4a88-ac3c-996437871a74",
   "metadata": {},
   "outputs": [],
   "source": [
    "#missing values of the 'critic_score' we fill with '0'.\n",
    "games['critic_score'] = games['critic_score'].fillna(0) "
   ]
  },
  {
   "cell_type": "code",
   "execution_count": 10,
   "id": "60e91705-d50e-4a1c-b887-41bdd4125896",
   "metadata": {},
   "outputs": [
    {
     "name": "stdout",
     "output_type": "stream",
     "text": [
      "<class 'pandas.core.frame.DataFrame'>\n",
      "RangeIndex: 16715 entries, 0 to 16714\n",
      "Data columns (total 11 columns):\n",
      " #   Column           Non-Null Count  Dtype  \n",
      "---  ------           --------------  -----  \n",
      " 0   name             16713 non-null  object \n",
      " 1   platform         16715 non-null  object \n",
      " 2   year_of_release  16446 non-null  float64\n",
      " 3   genre            16713 non-null  object \n",
      " 4   na_sales         16715 non-null  float64\n",
      " 5   eu_sales         16715 non-null  float64\n",
      " 6   jp_sales         16715 non-null  float64\n",
      " 7   other_sales      16715 non-null  float64\n",
      " 8   critic_score     16715 non-null  float64\n",
      " 9   user_score       16715 non-null  float64\n",
      " 10  rating           9949 non-null   object \n",
      "dtypes: float64(7), object(4)\n",
      "memory usage: 1.4+ MB\n"
     ]
    }
   ],
   "source": [
    "# missing values of 'user_score'\n",
    "\n",
    "games['user_score'] = games['user_score'].fillna(0)  # we fill NaN values with 0.\n",
    "\n",
    "count_tbd = games['user_score'].value_counts()['tbd']  #2424 'tbd' values, we are replacing them with average value of the column. \n",
    "count_tbd\n",
    "\n",
    "# now we get mean value of only numeric values of the column.\n",
    "numeric_user_score = pd.to_numeric(games['user_score'], errors = 'coerce') \n",
    "mean_value = numeric_user_score.mean() \n",
    "\n",
    "# now we replace 'tbd' with mean_value\n",
    "games['user_score'] = games['user_score'].replace ('tbd', mean_value)\n",
    "\n",
    "games['user_score']=games['user_score'].astype(float)\n",
    "games.info()"
   ]
  },
  {
   "cell_type": "markdown",
   "id": "a1364286-0c1d-4bfe-8689-81458e0255b6",
   "metadata": {},
   "source": [
    "##### For 'user_score' column, we filled NaN values with 0 and 'tbd' with mean value of the column. Finally, datatype converted from 'object' into 'float'."
   ]
  },
  {
   "cell_type": "code",
   "execution_count": 12,
   "id": "c0f7dd30-64fe-4d5e-b13b-80326fa002d4",
   "metadata": {},
   "outputs": [],
   "source": [
    "# missing values\n",
    "missing_name_rows = games[games['name'].isna()]\n",
    "missing_name_rows                  \n",
    "#two missing 'name' column values \n",
    "#we drop these rows because other corresponding column values are missing or insignificant. Also these are old (1993year) games.\n",
    "games = games.dropna(subset=['name'])  \n"
   ]
  },
  {
   "cell_type": "code",
   "execution_count": 13,
   "id": "85ae8c21-78e6-484f-a256-8cd2ece96d2d",
   "metadata": {},
   "outputs": [
    {
     "data": {
      "text/plain": [
       "146"
      ]
     },
     "execution_count": 13,
     "metadata": {},
     "output_type": "execute_result"
    }
   ],
   "source": [
    "#missing values\n",
    "games['year_of_release'].isna().sum()   # 269 missing values     about 1.61% of total values. \n",
    "games['year_of_release'] = games.groupby('name')['year_of_release'].transform(lambda x: x.fillna(x.mean()))\n",
    "games['year_of_release'].isna().sum()   \n"
   ]
  },
  {
   "cell_type": "markdown",
   "id": "57914e10-2ce1-4eb2-9212-5216f1e40940",
   "metadata": {},
   "source": [
    "##### after fillna() there are still 146 missing values, it is about 0.87% of 16713 (total number values). They were not filled, because they most probably released only once (NaN year), so mean values cannot be obtianed. Taking into account the low percentage of missing values, we will drop these 146 missing values. "
   ]
  },
  {
   "cell_type": "code",
   "execution_count": 15,
   "id": "6e161b36-db3c-4874-8882-2f46117d665f",
   "metadata": {},
   "outputs": [
    {
     "data": {
      "text/plain": [
       "0"
      ]
     },
     "execution_count": 15,
     "metadata": {},
     "output_type": "execute_result"
    }
   ],
   "source": [
    "games = games.dropna(subset = ['year_of_release'])\n",
    "games['year_of_release'].isna().sum() "
   ]
  },
  {
   "cell_type": "code",
   "execution_count": 16,
   "id": "c14da267-f650-4f7f-ac72-a74ed3f667d4",
   "metadata": {},
   "outputs": [
    {
     "data": {
      "text/html": [
       "<div>\n",
       "<style scoped>\n",
       "    .dataframe tbody tr th:only-of-type {\n",
       "        vertical-align: middle;\n",
       "    }\n",
       "\n",
       "    .dataframe tbody tr th {\n",
       "        vertical-align: top;\n",
       "    }\n",
       "\n",
       "    .dataframe thead th {\n",
       "        text-align: right;\n",
       "    }\n",
       "</style>\n",
       "<table border=\"1\" class=\"dataframe\">\n",
       "  <thead>\n",
       "    <tr style=\"text-align: right;\">\n",
       "      <th></th>\n",
       "      <th>name</th>\n",
       "      <th>platform</th>\n",
       "      <th>year_of_release</th>\n",
       "      <th>genre</th>\n",
       "      <th>na_sales</th>\n",
       "      <th>eu_sales</th>\n",
       "      <th>jp_sales</th>\n",
       "      <th>other_sales</th>\n",
       "      <th>critic_score</th>\n",
       "      <th>user_score</th>\n",
       "      <th>rating</th>\n",
       "    </tr>\n",
       "  </thead>\n",
       "  <tbody>\n",
       "    <tr>\n",
       "      <th>0</th>\n",
       "      <td>Wii Sports</td>\n",
       "      <td>Wii</td>\n",
       "      <td>2006</td>\n",
       "      <td>Sports</td>\n",
       "      <td>41.36</td>\n",
       "      <td>28.96</td>\n",
       "      <td>3.77</td>\n",
       "      <td>8.45</td>\n",
       "      <td>76.0</td>\n",
       "      <td>8.0</td>\n",
       "      <td>E</td>\n",
       "    </tr>\n",
       "    <tr>\n",
       "      <th>1</th>\n",
       "      <td>Super Mario Bros.</td>\n",
       "      <td>NES</td>\n",
       "      <td>1985</td>\n",
       "      <td>Platform</td>\n",
       "      <td>29.08</td>\n",
       "      <td>3.58</td>\n",
       "      <td>6.81</td>\n",
       "      <td>0.77</td>\n",
       "      <td>0.0</td>\n",
       "      <td>0.0</td>\n",
       "      <td>NaN</td>\n",
       "    </tr>\n",
       "    <tr>\n",
       "      <th>2</th>\n",
       "      <td>Mario Kart Wii</td>\n",
       "      <td>Wii</td>\n",
       "      <td>2008</td>\n",
       "      <td>Racing</td>\n",
       "      <td>15.68</td>\n",
       "      <td>12.76</td>\n",
       "      <td>3.79</td>\n",
       "      <td>3.29</td>\n",
       "      <td>82.0</td>\n",
       "      <td>8.3</td>\n",
       "      <td>E</td>\n",
       "    </tr>\n",
       "    <tr>\n",
       "      <th>3</th>\n",
       "      <td>Wii Sports Resort</td>\n",
       "      <td>Wii</td>\n",
       "      <td>2009</td>\n",
       "      <td>Sports</td>\n",
       "      <td>15.61</td>\n",
       "      <td>10.93</td>\n",
       "      <td>3.28</td>\n",
       "      <td>2.95</td>\n",
       "      <td>80.0</td>\n",
       "      <td>8.0</td>\n",
       "      <td>E</td>\n",
       "    </tr>\n",
       "    <tr>\n",
       "      <th>4</th>\n",
       "      <td>Pokemon Red/Pokemon Blue</td>\n",
       "      <td>GB</td>\n",
       "      <td>1996</td>\n",
       "      <td>Role-Playing</td>\n",
       "      <td>11.27</td>\n",
       "      <td>8.89</td>\n",
       "      <td>10.22</td>\n",
       "      <td>1.00</td>\n",
       "      <td>0.0</td>\n",
       "      <td>0.0</td>\n",
       "      <td>NaN</td>\n",
       "    </tr>\n",
       "  </tbody>\n",
       "</table>\n",
       "</div>"
      ],
      "text/plain": [
       "                       name platform  year_of_release         genre  na_sales  \\\n",
       "0                Wii Sports      Wii             2006        Sports     41.36   \n",
       "1         Super Mario Bros.      NES             1985      Platform     29.08   \n",
       "2            Mario Kart Wii      Wii             2008        Racing     15.68   \n",
       "3         Wii Sports Resort      Wii             2009        Sports     15.61   \n",
       "4  Pokemon Red/Pokemon Blue       GB             1996  Role-Playing     11.27   \n",
       "\n",
       "   eu_sales  jp_sales  other_sales  critic_score  user_score rating  \n",
       "0     28.96      3.77         8.45          76.0         8.0      E  \n",
       "1      3.58      6.81         0.77           0.0         0.0    NaN  \n",
       "2     12.76      3.79         3.29          82.0         8.3      E  \n",
       "3     10.93      3.28         2.95          80.0         8.0      E  \n",
       "4      8.89     10.22         1.00           0.0         0.0    NaN  "
      ]
     },
     "execution_count": 16,
     "metadata": {},
     "output_type": "execute_result"
    }
   ],
   "source": [
    "#rounding and converting from float into integer\n",
    "games['year_of_release'] = games['year_of_release'].round().astype('int')\n",
    "games.head()\n"
   ]
  },
  {
   "cell_type": "code",
   "execution_count": 17,
   "id": "3cc90c92",
   "metadata": {},
   "outputs": [],
   "source": [
    "# missing values in 'rating' column\n",
    "rating_nan = games['rating'].isna().sum()    #6699 'NaN' values found. it is about 40% of the total value.\n",
    "rating_nan\n",
    "games['rating'] = games['rating'].fillna('unknown')"
   ]
  },
  {
   "cell_type": "code",
   "execution_count": 18,
   "id": "e4fc1347-0a31-4776-b7a4-102e06ecf12c",
   "metadata": {},
   "outputs": [
    {
     "data": {
      "text/html": [
       "<div>\n",
       "<style scoped>\n",
       "    .dataframe tbody tr th:only-of-type {\n",
       "        vertical-align: middle;\n",
       "    }\n",
       "\n",
       "    .dataframe tbody tr th {\n",
       "        vertical-align: top;\n",
       "    }\n",
       "\n",
       "    .dataframe thead th {\n",
       "        text-align: right;\n",
       "    }\n",
       "</style>\n",
       "<table border=\"1\" class=\"dataframe\">\n",
       "  <thead>\n",
       "    <tr style=\"text-align: right;\">\n",
       "      <th></th>\n",
       "      <th>name</th>\n",
       "      <th>platform</th>\n",
       "      <th>year_of_release</th>\n",
       "      <th>genre</th>\n",
       "      <th>na_sales</th>\n",
       "      <th>eu_sales</th>\n",
       "      <th>jp_sales</th>\n",
       "      <th>other_sales</th>\n",
       "      <th>critic_score</th>\n",
       "      <th>user_score</th>\n",
       "      <th>rating</th>\n",
       "      <th>total_sales</th>\n",
       "    </tr>\n",
       "  </thead>\n",
       "  <tbody>\n",
       "    <tr>\n",
       "      <th>0</th>\n",
       "      <td>Wii Sports</td>\n",
       "      <td>Wii</td>\n",
       "      <td>2006</td>\n",
       "      <td>Sports</td>\n",
       "      <td>41.36</td>\n",
       "      <td>28.96</td>\n",
       "      <td>3.77</td>\n",
       "      <td>8.45</td>\n",
       "      <td>76.0</td>\n",
       "      <td>8.0</td>\n",
       "      <td>E</td>\n",
       "      <td>82.54</td>\n",
       "    </tr>\n",
       "    <tr>\n",
       "      <th>1</th>\n",
       "      <td>Super Mario Bros.</td>\n",
       "      <td>NES</td>\n",
       "      <td>1985</td>\n",
       "      <td>Platform</td>\n",
       "      <td>29.08</td>\n",
       "      <td>3.58</td>\n",
       "      <td>6.81</td>\n",
       "      <td>0.77</td>\n",
       "      <td>0.0</td>\n",
       "      <td>0.0</td>\n",
       "      <td>unknown</td>\n",
       "      <td>40.24</td>\n",
       "    </tr>\n",
       "    <tr>\n",
       "      <th>2</th>\n",
       "      <td>Mario Kart Wii</td>\n",
       "      <td>Wii</td>\n",
       "      <td>2008</td>\n",
       "      <td>Racing</td>\n",
       "      <td>15.68</td>\n",
       "      <td>12.76</td>\n",
       "      <td>3.79</td>\n",
       "      <td>3.29</td>\n",
       "      <td>82.0</td>\n",
       "      <td>8.3</td>\n",
       "      <td>E</td>\n",
       "      <td>35.52</td>\n",
       "    </tr>\n",
       "    <tr>\n",
       "      <th>3</th>\n",
       "      <td>Wii Sports Resort</td>\n",
       "      <td>Wii</td>\n",
       "      <td>2009</td>\n",
       "      <td>Sports</td>\n",
       "      <td>15.61</td>\n",
       "      <td>10.93</td>\n",
       "      <td>3.28</td>\n",
       "      <td>2.95</td>\n",
       "      <td>80.0</td>\n",
       "      <td>8.0</td>\n",
       "      <td>E</td>\n",
       "      <td>32.77</td>\n",
       "    </tr>\n",
       "    <tr>\n",
       "      <th>4</th>\n",
       "      <td>Pokemon Red/Pokemon Blue</td>\n",
       "      <td>GB</td>\n",
       "      <td>1996</td>\n",
       "      <td>Role-Playing</td>\n",
       "      <td>11.27</td>\n",
       "      <td>8.89</td>\n",
       "      <td>10.22</td>\n",
       "      <td>1.00</td>\n",
       "      <td>0.0</td>\n",
       "      <td>0.0</td>\n",
       "      <td>unknown</td>\n",
       "      <td>31.38</td>\n",
       "    </tr>\n",
       "  </tbody>\n",
       "</table>\n",
       "</div>"
      ],
      "text/plain": [
       "                       name platform  year_of_release         genre  na_sales  \\\n",
       "0                Wii Sports      Wii             2006        Sports     41.36   \n",
       "1         Super Mario Bros.      NES             1985      Platform     29.08   \n",
       "2            Mario Kart Wii      Wii             2008        Racing     15.68   \n",
       "3         Wii Sports Resort      Wii             2009        Sports     15.61   \n",
       "4  Pokemon Red/Pokemon Blue       GB             1996  Role-Playing     11.27   \n",
       "\n",
       "   eu_sales  jp_sales  other_sales  critic_score  user_score   rating  \\\n",
       "0     28.96      3.77         8.45          76.0         8.0        E   \n",
       "1      3.58      6.81         0.77           0.0         0.0  unknown   \n",
       "2     12.76      3.79         3.29          82.0         8.3        E   \n",
       "3     10.93      3.28         2.95          80.0         8.0        E   \n",
       "4      8.89     10.22         1.00           0.0         0.0  unknown   \n",
       "\n",
       "   total_sales  \n",
       "0        82.54  \n",
       "1        40.24  \n",
       "2        35.52  \n",
       "3        32.77  \n",
       "4        31.38  "
      ]
     },
     "execution_count": 18,
     "metadata": {},
     "output_type": "execute_result"
    }
   ],
   "source": [
    "# total sales\n",
    "games['total_sales'] = games[['na_sales', 'eu_sales', 'jp_sales', 'other_sales']].sum(axis=1)\n",
    "games.head()\n"
   ]
  },
  {
   "cell_type": "markdown",
   "id": "7a141ebc-a266-48c7-9e36-8ff41251630c",
   "metadata": {},
   "source": [
    "#### <span style=\"color: blue;\"> Step 3. Data analysis </span>"
   ]
  },
  {
   "cell_type": "code",
   "execution_count": 20,
   "id": "b9d9cc97-1e9a-4613-92ed-bbd45c31e31a",
   "metadata": {},
   "outputs": [
    {
     "data": {
      "image/png": "[encoded data removed]",
      "text/plain": [
       "<Figure size 800x500 with 1 Axes>"
      ]
     },
     "metadata": {},
     "output_type": "display_data"
    }
   ],
   "source": [
    "#how many games released each year\n",
    "agg_dict = {'name':'count', 'total_sales':'sum'}\n",
    "group_per_year = games.groupby('year_of_release')\n",
    "games_per_year = group_per_year.agg(agg_dict).reset_index()\n",
    "games_per_year\n",
    "\n",
    "plt.figure(figsize=(8, 5))\n",
    "plt.bar(games_per_year['year_of_release'], games_per_year['name'], color='green') \n",
    "\n",
    "plt.xlabel('years')\n",
    "plt.ylabel('Number of games released')\n",
    "plt.title('Number of games released per year')\n",
    "\n",
    "plt.show()\n"
   ]
  },
  {
   "cell_type": "markdown",
   "id": "907fa608-65ca-49ff-b407-12c4810fdc38",
   "metadata": {},
   "source": [
    "##### From the above shown data, further we will work with games with total sales more 100. This excludes all games released \n",
    "till 1996.  "
   ]
  },
  {
   "cell_type": "code",
   "execution_count": 22,
   "id": "347be316-8e51-437b-a6bb-b03c5105877e",
   "metadata": {},
   "outputs": [
    {
     "data": {
      "text/html": [
       "<div>\n",
       "<style scoped>\n",
       "    .dataframe tbody tr th:only-of-type {\n",
       "        vertical-align: middle;\n",
       "    }\n",
       "\n",
       "    .dataframe tbody tr th {\n",
       "        vertical-align: top;\n",
       "    }\n",
       "\n",
       "    .dataframe thead th {\n",
       "        text-align: right;\n",
       "    }\n",
       "</style>\n",
       "<table border=\"1\" class=\"dataframe\">\n",
       "  <thead>\n",
       "    <tr style=\"text-align: right;\">\n",
       "      <th></th>\n",
       "      <th>name</th>\n",
       "      <th>platform</th>\n",
       "      <th>year_of_release</th>\n",
       "      <th>genre</th>\n",
       "      <th>na_sales</th>\n",
       "      <th>eu_sales</th>\n",
       "      <th>jp_sales</th>\n",
       "      <th>other_sales</th>\n",
       "      <th>critic_score</th>\n",
       "      <th>user_score</th>\n",
       "      <th>rating</th>\n",
       "      <th>total_sales</th>\n",
       "    </tr>\n",
       "  </thead>\n",
       "  <tbody>\n",
       "    <tr>\n",
       "      <th>0</th>\n",
       "      <td>Wii Sports</td>\n",
       "      <td>Wii</td>\n",
       "      <td>2006</td>\n",
       "      <td>Sports</td>\n",
       "      <td>41.36</td>\n",
       "      <td>28.96</td>\n",
       "      <td>3.77</td>\n",
       "      <td>8.45</td>\n",
       "      <td>76.0</td>\n",
       "      <td>8.0</td>\n",
       "      <td>E</td>\n",
       "      <td>82.54</td>\n",
       "    </tr>\n",
       "    <tr>\n",
       "      <th>2</th>\n",
       "      <td>Mario Kart Wii</td>\n",
       "      <td>Wii</td>\n",
       "      <td>2008</td>\n",
       "      <td>Racing</td>\n",
       "      <td>15.68</td>\n",
       "      <td>12.76</td>\n",
       "      <td>3.79</td>\n",
       "      <td>3.29</td>\n",
       "      <td>82.0</td>\n",
       "      <td>8.3</td>\n",
       "      <td>E</td>\n",
       "      <td>35.52</td>\n",
       "    </tr>\n",
       "    <tr>\n",
       "      <th>3</th>\n",
       "      <td>Wii Sports Resort</td>\n",
       "      <td>Wii</td>\n",
       "      <td>2009</td>\n",
       "      <td>Sports</td>\n",
       "      <td>15.61</td>\n",
       "      <td>10.93</td>\n",
       "      <td>3.28</td>\n",
       "      <td>2.95</td>\n",
       "      <td>80.0</td>\n",
       "      <td>8.0</td>\n",
       "      <td>E</td>\n",
       "      <td>32.77</td>\n",
       "    </tr>\n",
       "    <tr>\n",
       "      <th>4</th>\n",
       "      <td>Pokemon Red/Pokemon Blue</td>\n",
       "      <td>GB</td>\n",
       "      <td>1996</td>\n",
       "      <td>Role-Playing</td>\n",
       "      <td>11.27</td>\n",
       "      <td>8.89</td>\n",
       "      <td>10.22</td>\n",
       "      <td>1.00</td>\n",
       "      <td>0.0</td>\n",
       "      <td>0.0</td>\n",
       "      <td>unknown</td>\n",
       "      <td>31.38</td>\n",
       "    </tr>\n",
       "    <tr>\n",
       "      <th>6</th>\n",
       "      <td>New Super Mario Bros.</td>\n",
       "      <td>DS</td>\n",
       "      <td>2006</td>\n",
       "      <td>Platform</td>\n",
       "      <td>11.28</td>\n",
       "      <td>9.14</td>\n",
       "      <td>6.50</td>\n",
       "      <td>2.88</td>\n",
       "      <td>89.0</td>\n",
       "      <td>8.5</td>\n",
       "      <td>E</td>\n",
       "      <td>29.80</td>\n",
       "    </tr>\n",
       "  </tbody>\n",
       "</table>\n",
       "</div>"
      ],
      "text/plain": [
       "                       name platform  year_of_release         genre  na_sales  \\\n",
       "0                Wii Sports      Wii             2006        Sports     41.36   \n",
       "2            Mario Kart Wii      Wii             2008        Racing     15.68   \n",
       "3         Wii Sports Resort      Wii             2009        Sports     15.61   \n",
       "4  Pokemon Red/Pokemon Blue       GB             1996  Role-Playing     11.27   \n",
       "6     New Super Mario Bros.       DS             2006      Platform     11.28   \n",
       "\n",
       "   eu_sales  jp_sales  other_sales  critic_score  user_score   rating  \\\n",
       "0     28.96      3.77         8.45          76.0         8.0        E   \n",
       "2     12.76      3.79         3.29          82.0         8.3        E   \n",
       "3     10.93      3.28         2.95          80.0         8.0        E   \n",
       "4      8.89     10.22         1.00           0.0         0.0  unknown   \n",
       "6      9.14      6.50         2.88          89.0         8.5        E   \n",
       "\n",
       "   total_sales  \n",
       "0        82.54  \n",
       "2        35.52  \n",
       "3        32.77  \n",
       "4        31.38  \n",
       "6        29.80  "
      ]
     },
     "execution_count": 22,
     "metadata": {},
     "output_type": "execute_result"
    }
   ],
   "source": [
    "games_filtered = games[games['year_of_release'] >=1996]\n",
    "games_filtered.head()"
   ]
  },
  {
   "cell_type": "code",
   "execution_count": 23,
   "id": "d5c64f24-0ea9-48b7-b888-8c87e20152d4",
   "metadata": {},
   "outputs": [
    {
     "data": {
      "text/html": [
       "<div>\n",
       "<style scoped>\n",
       "    .dataframe tbody tr th:only-of-type {\n",
       "        vertical-align: middle;\n",
       "    }\n",
       "\n",
       "    .dataframe tbody tr th {\n",
       "        vertical-align: top;\n",
       "    }\n",
       "\n",
       "    .dataframe thead th {\n",
       "        text-align: right;\n",
       "    }\n",
       "</style>\n",
       "<table border=\"1\" class=\"dataframe\">\n",
       "  <thead>\n",
       "    <tr style=\"text-align: right;\">\n",
       "      <th></th>\n",
       "      <th>platform</th>\n",
       "      <th>total_sales</th>\n",
       "    </tr>\n",
       "  </thead>\n",
       "  <tbody>\n",
       "    <tr>\n",
       "      <th>10</th>\n",
       "      <td>PCFX</td>\n",
       "      <td>0.03</td>\n",
       "    </tr>\n",
       "    <tr>\n",
       "      <th>8</th>\n",
       "      <td>NG</td>\n",
       "      <td>0.10</td>\n",
       "    </tr>\n",
       "    <tr>\n",
       "      <th>19</th>\n",
       "      <td>WS</td>\n",
       "      <td>1.42</td>\n",
       "    </tr>\n",
       "    <tr>\n",
       "      <th>0</th>\n",
       "      <td>2600</td>\n",
       "      <td>2.53</td>\n",
       "    </tr>\n",
       "    <tr>\n",
       "      <th>2</th>\n",
       "      <td>DC</td>\n",
       "      <td>15.95</td>\n",
       "    </tr>\n",
       "    <tr>\n",
       "      <th>18</th>\n",
       "      <td>SNES</td>\n",
       "      <td>17.39</td>\n",
       "    </tr>\n",
       "    <tr>\n",
       "      <th>17</th>\n",
       "      <td>SAT</td>\n",
       "      <td>18.37</td>\n",
       "    </tr>\n",
       "    <tr>\n",
       "      <th>16</th>\n",
       "      <td>PSV</td>\n",
       "      <td>53.81</td>\n",
       "    </tr>\n",
       "    <tr>\n",
       "      <th>21</th>\n",
       "      <td>WiiU</td>\n",
       "      <td>82.19</td>\n",
       "    </tr>\n",
       "    <tr>\n",
       "      <th>4</th>\n",
       "      <td>GB</td>\n",
       "      <td>136.30</td>\n",
       "    </tr>\n",
       "    <tr>\n",
       "      <th>24</th>\n",
       "      <td>XOne</td>\n",
       "      <td>159.32</td>\n",
       "    </tr>\n",
       "    <tr>\n",
       "      <th>6</th>\n",
       "      <td>GC</td>\n",
       "      <td>198.66</td>\n",
       "    </tr>\n",
       "    <tr>\n",
       "      <th>7</th>\n",
       "      <td>N64</td>\n",
       "      <td>218.48</td>\n",
       "    </tr>\n",
       "    <tr>\n",
       "      <th>9</th>\n",
       "      <td>PC</td>\n",
       "      <td>238.67</td>\n",
       "    </tr>\n",
       "    <tr>\n",
       "      <th>23</th>\n",
       "      <td>XB</td>\n",
       "      <td>256.69</td>\n",
       "    </tr>\n",
       "    <tr>\n",
       "      <th>1</th>\n",
       "      <td>3DS</td>\n",
       "      <td>258.53</td>\n",
       "    </tr>\n",
       "    <tr>\n",
       "      <th>15</th>\n",
       "      <td>PSP</td>\n",
       "      <td>293.57</td>\n",
       "    </tr>\n",
       "    <tr>\n",
       "      <th>5</th>\n",
       "      <td>GBA</td>\n",
       "      <td>313.73</td>\n",
       "    </tr>\n",
       "    <tr>\n",
       "      <th>14</th>\n",
       "      <td>PS4</td>\n",
       "      <td>314.14</td>\n",
       "    </tr>\n",
       "    <tr>\n",
       "      <th>11</th>\n",
       "      <td>PS</td>\n",
       "      <td>685.59</td>\n",
       "    </tr>\n",
       "    <tr>\n",
       "      <th>3</th>\n",
       "      <td>DS</td>\n",
       "      <td>804.26</td>\n",
       "    </tr>\n",
       "    <tr>\n",
       "      <th>20</th>\n",
       "      <td>Wii</td>\n",
       "      <td>903.31</td>\n",
       "    </tr>\n",
       "    <tr>\n",
       "      <th>13</th>\n",
       "      <td>PS3</td>\n",
       "      <td>935.19</td>\n",
       "    </tr>\n",
       "    <tr>\n",
       "      <th>22</th>\n",
       "      <td>X360</td>\n",
       "      <td>966.61</td>\n",
       "    </tr>\n",
       "    <tr>\n",
       "      <th>12</th>\n",
       "      <td>PS2</td>\n",
       "      <td>1247.16</td>\n",
       "    </tr>\n",
       "  </tbody>\n",
       "</table>\n",
       "</div>"
      ],
      "text/plain": [
       "   platform  total_sales\n",
       "10     PCFX         0.03\n",
       "8        NG         0.10\n",
       "19       WS         1.42\n",
       "0      2600         2.53\n",
       "2        DC        15.95\n",
       "18     SNES        17.39\n",
       "17      SAT        18.37\n",
       "16      PSV        53.81\n",
       "21     WiiU        82.19\n",
       "4        GB       136.30\n",
       "24     XOne       159.32\n",
       "6        GC       198.66\n",
       "7       N64       218.48\n",
       "9        PC       238.67\n",
       "23       XB       256.69\n",
       "1       3DS       258.53\n",
       "15      PSP       293.57\n",
       "5       GBA       313.73\n",
       "14      PS4       314.14\n",
       "11       PS       685.59\n",
       "3        DS       804.26\n",
       "20      Wii       903.31\n",
       "13      PS3       935.19\n",
       "22     X360       966.61\n",
       "12      PS2      1247.16"
      ]
     },
     "execution_count": 23,
     "metadata": {},
     "output_type": "execute_result"
    }
   ],
   "source": [
    "# platforms with corresponding total sales\n",
    "\n",
    "games_platform = games_filtered.groupby('platform')['total_sales'].sum().reset_index()\n",
    "games_platform= games_platform.sort_values(by='total_sales', ascending=True)\n",
    "games_platform\n"
   ]
  },
  {
   "cell_type": "markdown",
   "id": "3183f0f5-0ffb-4c1f-b22f-5dc5c6458fc8",
   "metadata": {},
   "source": [
    "##### PS2, X360, PS3, Wii, DS are platforms with largest total sales."
   ]
  },
  {
   "cell_type": "code",
   "execution_count": 25,
   "id": "e1393c1a-5ff2-4ea4-b86e-8142973429a1",
   "metadata": {},
   "outputs": [
    {
     "data": {
      "text/html": [
       "<div>\n",
       "<style scoped>\n",
       "    .dataframe tbody tr th:only-of-type {\n",
       "        vertical-align: middle;\n",
       "    }\n",
       "\n",
       "    .dataframe tbody tr th {\n",
       "        vertical-align: top;\n",
       "    }\n",
       "\n",
       "    .dataframe thead th {\n",
       "        text-align: right;\n",
       "    }\n",
       "</style>\n",
       "<table border=\"1\" class=\"dataframe\">\n",
       "  <thead>\n",
       "    <tr style=\"text-align: right;\">\n",
       "      <th></th>\n",
       "      <th>name</th>\n",
       "      <th>platform</th>\n",
       "      <th>year_of_release</th>\n",
       "      <th>genre</th>\n",
       "      <th>na_sales</th>\n",
       "      <th>eu_sales</th>\n",
       "      <th>jp_sales</th>\n",
       "      <th>other_sales</th>\n",
       "      <th>critic_score</th>\n",
       "      <th>user_score</th>\n",
       "      <th>rating</th>\n",
       "      <th>total_sales</th>\n",
       "    </tr>\n",
       "  </thead>\n",
       "  <tbody>\n",
       "    <tr>\n",
       "      <th>0</th>\n",
       "      <td>Wii Sports</td>\n",
       "      <td>Wii</td>\n",
       "      <td>2006</td>\n",
       "      <td>Sports</td>\n",
       "      <td>41.36</td>\n",
       "      <td>28.96</td>\n",
       "      <td>3.77</td>\n",
       "      <td>8.45</td>\n",
       "      <td>76.0</td>\n",
       "      <td>8.0</td>\n",
       "      <td>E</td>\n",
       "      <td>82.54</td>\n",
       "    </tr>\n",
       "    <tr>\n",
       "      <th>2</th>\n",
       "      <td>Mario Kart Wii</td>\n",
       "      <td>Wii</td>\n",
       "      <td>2008</td>\n",
       "      <td>Racing</td>\n",
       "      <td>15.68</td>\n",
       "      <td>12.76</td>\n",
       "      <td>3.79</td>\n",
       "      <td>3.29</td>\n",
       "      <td>82.0</td>\n",
       "      <td>8.3</td>\n",
       "      <td>E</td>\n",
       "      <td>35.52</td>\n",
       "    </tr>\n",
       "    <tr>\n",
       "      <th>3</th>\n",
       "      <td>Wii Sports Resort</td>\n",
       "      <td>Wii</td>\n",
       "      <td>2009</td>\n",
       "      <td>Sports</td>\n",
       "      <td>15.61</td>\n",
       "      <td>10.93</td>\n",
       "      <td>3.28</td>\n",
       "      <td>2.95</td>\n",
       "      <td>80.0</td>\n",
       "      <td>8.0</td>\n",
       "      <td>E</td>\n",
       "      <td>32.77</td>\n",
       "    </tr>\n",
       "    <tr>\n",
       "      <th>6</th>\n",
       "      <td>New Super Mario Bros.</td>\n",
       "      <td>DS</td>\n",
       "      <td>2006</td>\n",
       "      <td>Platform</td>\n",
       "      <td>11.28</td>\n",
       "      <td>9.14</td>\n",
       "      <td>6.50</td>\n",
       "      <td>2.88</td>\n",
       "      <td>89.0</td>\n",
       "      <td>8.5</td>\n",
       "      <td>E</td>\n",
       "      <td>29.80</td>\n",
       "    </tr>\n",
       "    <tr>\n",
       "      <th>7</th>\n",
       "      <td>Wii Play</td>\n",
       "      <td>Wii</td>\n",
       "      <td>2006</td>\n",
       "      <td>Misc</td>\n",
       "      <td>13.96</td>\n",
       "      <td>9.18</td>\n",
       "      <td>2.93</td>\n",
       "      <td>2.84</td>\n",
       "      <td>58.0</td>\n",
       "      <td>6.6</td>\n",
       "      <td>E</td>\n",
       "      <td>28.91</td>\n",
       "    </tr>\n",
       "    <tr>\n",
       "      <th>...</th>\n",
       "      <td>...</td>\n",
       "      <td>...</td>\n",
       "      <td>...</td>\n",
       "      <td>...</td>\n",
       "      <td>...</td>\n",
       "      <td>...</td>\n",
       "      <td>...</td>\n",
       "      <td>...</td>\n",
       "      <td>...</td>\n",
       "      <td>...</td>\n",
       "      <td>...</td>\n",
       "      <td>...</td>\n",
       "    </tr>\n",
       "    <tr>\n",
       "      <th>16709</th>\n",
       "      <td>SCORE International Baja 1000: The Official Game</td>\n",
       "      <td>PS2</td>\n",
       "      <td>2008</td>\n",
       "      <td>Racing</td>\n",
       "      <td>0.00</td>\n",
       "      <td>0.00</td>\n",
       "      <td>0.00</td>\n",
       "      <td>0.00</td>\n",
       "      <td>0.0</td>\n",
       "      <td>0.0</td>\n",
       "      <td>unknown</td>\n",
       "      <td>0.00</td>\n",
       "    </tr>\n",
       "    <tr>\n",
       "      <th>16710</th>\n",
       "      <td>Samurai Warriors: Sanada Maru</td>\n",
       "      <td>PS3</td>\n",
       "      <td>2016</td>\n",
       "      <td>Action</td>\n",
       "      <td>0.00</td>\n",
       "      <td>0.00</td>\n",
       "      <td>0.01</td>\n",
       "      <td>0.00</td>\n",
       "      <td>0.0</td>\n",
       "      <td>0.0</td>\n",
       "      <td>unknown</td>\n",
       "      <td>0.01</td>\n",
       "    </tr>\n",
       "    <tr>\n",
       "      <th>16711</th>\n",
       "      <td>LMA Manager 2007</td>\n",
       "      <td>X360</td>\n",
       "      <td>2006</td>\n",
       "      <td>Sports</td>\n",
       "      <td>0.00</td>\n",
       "      <td>0.01</td>\n",
       "      <td>0.00</td>\n",
       "      <td>0.00</td>\n",
       "      <td>0.0</td>\n",
       "      <td>0.0</td>\n",
       "      <td>unknown</td>\n",
       "      <td>0.01</td>\n",
       "    </tr>\n",
       "    <tr>\n",
       "      <th>16712</th>\n",
       "      <td>Haitaka no Psychedelica</td>\n",
       "      <td>PSV</td>\n",
       "      <td>2016</td>\n",
       "      <td>Adventure</td>\n",
       "      <td>0.00</td>\n",
       "      <td>0.00</td>\n",
       "      <td>0.01</td>\n",
       "      <td>0.00</td>\n",
       "      <td>0.0</td>\n",
       "      <td>0.0</td>\n",
       "      <td>unknown</td>\n",
       "      <td>0.01</td>\n",
       "    </tr>\n",
       "    <tr>\n",
       "      <th>16714</th>\n",
       "      <td>Winning Post 8 2016</td>\n",
       "      <td>PSV</td>\n",
       "      <td>2016</td>\n",
       "      <td>Simulation</td>\n",
       "      <td>0.00</td>\n",
       "      <td>0.00</td>\n",
       "      <td>0.01</td>\n",
       "      <td>0.00</td>\n",
       "      <td>0.0</td>\n",
       "      <td>0.0</td>\n",
       "      <td>unknown</td>\n",
       "      <td>0.01</td>\n",
       "    </tr>\n",
       "  </tbody>\n",
       "</table>\n",
       "<p>9722 rows × 12 columns</p>\n",
       "</div>"
      ],
      "text/plain": [
       "                                                   name platform  \\\n",
       "0                                            Wii Sports      Wii   \n",
       "2                                        Mario Kart Wii      Wii   \n",
       "3                                     Wii Sports Resort      Wii   \n",
       "6                                 New Super Mario Bros.       DS   \n",
       "7                                              Wii Play      Wii   \n",
       "...                                                 ...      ...   \n",
       "16709  SCORE International Baja 1000: The Official Game      PS2   \n",
       "16710                     Samurai Warriors: Sanada Maru      PS3   \n",
       "16711                                  LMA Manager 2007     X360   \n",
       "16712                           Haitaka no Psychedelica      PSV   \n",
       "16714                               Winning Post 8 2016      PSV   \n",
       "\n",
       "       year_of_release       genre  na_sales  eu_sales  jp_sales  other_sales  \\\n",
       "0                 2006      Sports     41.36     28.96      3.77         8.45   \n",
       "2                 2008      Racing     15.68     12.76      3.79         3.29   \n",
       "3                 2009      Sports     15.61     10.93      3.28         2.95   \n",
       "6                 2006    Platform     11.28      9.14      6.50         2.88   \n",
       "7                 2006        Misc     13.96      9.18      2.93         2.84   \n",
       "...                ...         ...       ...       ...       ...          ...   \n",
       "16709             2008      Racing      0.00      0.00      0.00         0.00   \n",
       "16710             2016      Action      0.00      0.00      0.01         0.00   \n",
       "16711             2006      Sports      0.00      0.01      0.00         0.00   \n",
       "16712             2016   Adventure      0.00      0.00      0.01         0.00   \n",
       "16714             2016  Simulation      0.00      0.00      0.01         0.00   \n",
       "\n",
       "       critic_score  user_score   rating  total_sales  \n",
       "0              76.0         8.0        E        82.54  \n",
       "2              82.0         8.3        E        35.52  \n",
       "3              80.0         8.0        E        32.77  \n",
       "6              89.0         8.5        E        29.80  \n",
       "7              58.0         6.6        E        28.91  \n",
       "...             ...         ...      ...          ...  \n",
       "16709           0.0         0.0  unknown         0.00  \n",
       "16710           0.0         0.0  unknown         0.01  \n",
       "16711           0.0         0.0  unknown         0.01  \n",
       "16712           0.0         0.0  unknown         0.01  \n",
       "16714           0.0         0.0  unknown         0.01  \n",
       "\n",
       "[9722 rows x 12 columns]"
      ]
     },
     "execution_count": 25,
     "metadata": {},
     "output_type": "execute_result"
    }
   ],
   "source": [
    "big_platforms = ['3DS', 'PS2', 'PS3', 'PSV', 'XOne', 'PS4', 'DS', 'Wii', 'X360']\n",
    "game_platforms = games_filtered[games_filtered['platform'].isin(big_platforms)]\n",
    "game_platforms"
   ]
  },
  {
   "cell_type": "code",
   "execution_count": 26,
   "id": "ba833c70-6a2b-4fb8-8a60-1b964f7c67e0",
   "metadata": {},
   "outputs": [
    {
     "data": {
      "image/png": "[encoded data removed]",
      "text/plain": [
       "<Figure size 500x3600 with 9 Axes>"
      ]
     },
     "metadata": {},
     "output_type": "display_data"
    }
   ],
   "source": [
    "unique_values = game_platforms['platform'].unique()\n",
    "n_subplots = len(unique_values)\n",
    "\n",
    "fig, axes = plt.subplots(n_subplots, 1, figsize=(5, 4 * n_subplots))\n",
    "\n",
    "for ax, value in zip(axes, unique_values):\n",
    "    subset = game_platforms[game_platforms['platform'] == value]\n",
    "    ax.hist(subset['year_of_release'], bins=20, edgecolor='black') \n",
    "    ax.set_title(f'Distribution of {value} over the years')\n",
    "    ax.set_xlabel('Years')\n",
    "    ax.set_ylabel('Number of Games Released')\n",
    "\n",
    "plt.tight_layout()  # Moved outside the loop to adjust layout after all subplots are added\n",
    "plt.show() \n"
   ]
  },
  {
   "cell_type": "markdown",
   "id": "6f1c2547-f38e-4071-a1f5-140404d7d722",
   "metadata": {},
   "source": [
    "\n",
    "##### Analysis of histograms, we observed the following: \n",
    "\n",
    "##### 1. 'PS4' and 'XOne', are two growing platforms. Both released in 2013.\n",
    "\n",
    "##### 2. 'Wii', 'DS' 'PS2' and 'X360' were popular platforms in the past. Wii released in 2004 and went down to zero in about 2014. 'DS' and 'X360' released in 2005 and strongly shrinked by 2016. These histograms show that it takes about 10 years from releasing to go down to zero.\n",
    "\n",
    "##### 3. 'PSV' platform (released in 2011) just started to shrink down.\n"
   ]
  },
  {
   "cell_type": "markdown",
   "id": "13f44875-4543-4d5e-aae6-47e0fc31ccdb",
   "metadata": {},
   "source": [
    "\n",
    "\n",
    "#### To build a model for 2017, based on our analysis, we take data of 2012-2016. "
   ]
  },
  {
   "cell_type": "code",
   "execution_count": 29,
   "id": "41492e3d-f2a4-422e-9da7-286b55c0d412",
   "metadata": {
    "scrolled": true
   },
   "outputs": [
    {
     "data": {
      "text/html": [
       "<div>\n",
       "<style scoped>\n",
       "    .dataframe tbody tr th:only-of-type {\n",
       "        vertical-align: middle;\n",
       "    }\n",
       "\n",
       "    .dataframe tbody tr th {\n",
       "        vertical-align: top;\n",
       "    }\n",
       "\n",
       "    .dataframe thead th {\n",
       "        text-align: right;\n",
       "    }\n",
       "</style>\n",
       "<table border=\"1\" class=\"dataframe\">\n",
       "  <thead>\n",
       "    <tr style=\"text-align: right;\">\n",
       "      <th></th>\n",
       "      <th>name</th>\n",
       "      <th>platform</th>\n",
       "      <th>year_of_release</th>\n",
       "      <th>genre</th>\n",
       "      <th>na_sales</th>\n",
       "      <th>eu_sales</th>\n",
       "      <th>jp_sales</th>\n",
       "      <th>other_sales</th>\n",
       "      <th>critic_score</th>\n",
       "      <th>user_score</th>\n",
       "      <th>rating</th>\n",
       "      <th>total_sales</th>\n",
       "    </tr>\n",
       "  </thead>\n",
       "  <tbody>\n",
       "    <tr>\n",
       "      <th>16</th>\n",
       "      <td>Grand Theft Auto V</td>\n",
       "      <td>PS3</td>\n",
       "      <td>2013</td>\n",
       "      <td>Action</td>\n",
       "      <td>7.02</td>\n",
       "      <td>9.09</td>\n",
       "      <td>0.98</td>\n",
       "      <td>3.96</td>\n",
       "      <td>97.0</td>\n",
       "      <td>8.2</td>\n",
       "      <td>M</td>\n",
       "      <td>21.05</td>\n",
       "    </tr>\n",
       "    <tr>\n",
       "      <th>23</th>\n",
       "      <td>Grand Theft Auto V</td>\n",
       "      <td>X360</td>\n",
       "      <td>2013</td>\n",
       "      <td>Action</td>\n",
       "      <td>9.66</td>\n",
       "      <td>5.14</td>\n",
       "      <td>0.06</td>\n",
       "      <td>1.41</td>\n",
       "      <td>97.0</td>\n",
       "      <td>8.1</td>\n",
       "      <td>M</td>\n",
       "      <td>16.27</td>\n",
       "    </tr>\n",
       "    <tr>\n",
       "      <th>31</th>\n",
       "      <td>Call of Duty: Black Ops 3</td>\n",
       "      <td>PS4</td>\n",
       "      <td>2015</td>\n",
       "      <td>Shooter</td>\n",
       "      <td>6.03</td>\n",
       "      <td>5.86</td>\n",
       "      <td>0.36</td>\n",
       "      <td>2.38</td>\n",
       "      <td>0.0</td>\n",
       "      <td>0.0</td>\n",
       "      <td>unknown</td>\n",
       "      <td>14.63</td>\n",
       "    </tr>\n",
       "    <tr>\n",
       "      <th>33</th>\n",
       "      <td>Pokemon X/Pokemon Y</td>\n",
       "      <td>3DS</td>\n",
       "      <td>2013</td>\n",
       "      <td>Role-Playing</td>\n",
       "      <td>5.28</td>\n",
       "      <td>4.19</td>\n",
       "      <td>4.35</td>\n",
       "      <td>0.78</td>\n",
       "      <td>0.0</td>\n",
       "      <td>0.0</td>\n",
       "      <td>unknown</td>\n",
       "      <td>14.60</td>\n",
       "    </tr>\n",
       "    <tr>\n",
       "      <th>34</th>\n",
       "      <td>Call of Duty: Black Ops II</td>\n",
       "      <td>PS3</td>\n",
       "      <td>2012</td>\n",
       "      <td>Shooter</td>\n",
       "      <td>4.99</td>\n",
       "      <td>5.73</td>\n",
       "      <td>0.65</td>\n",
       "      <td>2.42</td>\n",
       "      <td>83.0</td>\n",
       "      <td>5.3</td>\n",
       "      <td>M</td>\n",
       "      <td>13.79</td>\n",
       "    </tr>\n",
       "    <tr>\n",
       "      <th>...</th>\n",
       "      <td>...</td>\n",
       "      <td>...</td>\n",
       "      <td>...</td>\n",
       "      <td>...</td>\n",
       "      <td>...</td>\n",
       "      <td>...</td>\n",
       "      <td>...</td>\n",
       "      <td>...</td>\n",
       "      <td>...</td>\n",
       "      <td>...</td>\n",
       "      <td>...</td>\n",
       "      <td>...</td>\n",
       "    </tr>\n",
       "    <tr>\n",
       "      <th>16703</th>\n",
       "      <td>Strawberry Nauts</td>\n",
       "      <td>PSV</td>\n",
       "      <td>2016</td>\n",
       "      <td>Adventure</td>\n",
       "      <td>0.00</td>\n",
       "      <td>0.00</td>\n",
       "      <td>0.01</td>\n",
       "      <td>0.00</td>\n",
       "      <td>0.0</td>\n",
       "      <td>0.0</td>\n",
       "      <td>unknown</td>\n",
       "      <td>0.01</td>\n",
       "    </tr>\n",
       "    <tr>\n",
       "      <th>16707</th>\n",
       "      <td>Aiyoku no Eustia</td>\n",
       "      <td>PSV</td>\n",
       "      <td>2014</td>\n",
       "      <td>Misc</td>\n",
       "      <td>0.00</td>\n",
       "      <td>0.00</td>\n",
       "      <td>0.01</td>\n",
       "      <td>0.00</td>\n",
       "      <td>0.0</td>\n",
       "      <td>0.0</td>\n",
       "      <td>unknown</td>\n",
       "      <td>0.01</td>\n",
       "    </tr>\n",
       "    <tr>\n",
       "      <th>16710</th>\n",
       "      <td>Samurai Warriors: Sanada Maru</td>\n",
       "      <td>PS3</td>\n",
       "      <td>2016</td>\n",
       "      <td>Action</td>\n",
       "      <td>0.00</td>\n",
       "      <td>0.00</td>\n",
       "      <td>0.01</td>\n",
       "      <td>0.00</td>\n",
       "      <td>0.0</td>\n",
       "      <td>0.0</td>\n",
       "      <td>unknown</td>\n",
       "      <td>0.01</td>\n",
       "    </tr>\n",
       "    <tr>\n",
       "      <th>16712</th>\n",
       "      <td>Haitaka no Psychedelica</td>\n",
       "      <td>PSV</td>\n",
       "      <td>2016</td>\n",
       "      <td>Adventure</td>\n",
       "      <td>0.00</td>\n",
       "      <td>0.00</td>\n",
       "      <td>0.01</td>\n",
       "      <td>0.00</td>\n",
       "      <td>0.0</td>\n",
       "      <td>0.0</td>\n",
       "      <td>unknown</td>\n",
       "      <td>0.01</td>\n",
       "    </tr>\n",
       "    <tr>\n",
       "      <th>16714</th>\n",
       "      <td>Winning Post 8 2016</td>\n",
       "      <td>PSV</td>\n",
       "      <td>2016</td>\n",
       "      <td>Simulation</td>\n",
       "      <td>0.00</td>\n",
       "      <td>0.00</td>\n",
       "      <td>0.01</td>\n",
       "      <td>0.00</td>\n",
       "      <td>0.0</td>\n",
       "      <td>0.0</td>\n",
       "      <td>unknown</td>\n",
       "      <td>0.01</td>\n",
       "    </tr>\n",
       "  </tbody>\n",
       "</table>\n",
       "<p>2899 rows × 12 columns</p>\n",
       "</div>"
      ],
      "text/plain": [
       "                                name platform  year_of_release         genre  \\\n",
       "16                Grand Theft Auto V      PS3             2013        Action   \n",
       "23                Grand Theft Auto V     X360             2013        Action   \n",
       "31         Call of Duty: Black Ops 3      PS4             2015       Shooter   \n",
       "33               Pokemon X/Pokemon Y      3DS             2013  Role-Playing   \n",
       "34        Call of Duty: Black Ops II      PS3             2012       Shooter   \n",
       "...                              ...      ...              ...           ...   \n",
       "16703               Strawberry Nauts      PSV             2016     Adventure   \n",
       "16707               Aiyoku no Eustia      PSV             2014          Misc   \n",
       "16710  Samurai Warriors: Sanada Maru      PS3             2016        Action   \n",
       "16712        Haitaka no Psychedelica      PSV             2016     Adventure   \n",
       "16714            Winning Post 8 2016      PSV             2016    Simulation   \n",
       "\n",
       "       na_sales  eu_sales  jp_sales  other_sales  critic_score  user_score  \\\n",
       "16         7.02      9.09      0.98         3.96          97.0         8.2   \n",
       "23         9.66      5.14      0.06         1.41          97.0         8.1   \n",
       "31         6.03      5.86      0.36         2.38           0.0         0.0   \n",
       "33         5.28      4.19      4.35         0.78           0.0         0.0   \n",
       "34         4.99      5.73      0.65         2.42          83.0         5.3   \n",
       "...         ...       ...       ...          ...           ...         ...   \n",
       "16703      0.00      0.00      0.01         0.00           0.0         0.0   \n",
       "16707      0.00      0.00      0.01         0.00           0.0         0.0   \n",
       "16710      0.00      0.00      0.01         0.00           0.0         0.0   \n",
       "16712      0.00      0.00      0.01         0.00           0.0         0.0   \n",
       "16714      0.00      0.00      0.01         0.00           0.0         0.0   \n",
       "\n",
       "        rating  total_sales  \n",
       "16           M        21.05  \n",
       "23           M        16.27  \n",
       "31     unknown        14.63  \n",
       "33     unknown        14.60  \n",
       "34           M        13.79  \n",
       "...        ...          ...  \n",
       "16703  unknown         0.01  \n",
       "16707  unknown         0.01  \n",
       "16710  unknown         0.01  \n",
       "16712  unknown         0.01  \n",
       "16714  unknown         0.01  \n",
       "\n",
       "[2899 rows x 12 columns]"
      ]
     },
     "execution_count": 29,
     "metadata": {},
     "output_type": "execute_result"
    }
   ],
   "source": [
    "games_2012up = games[games['year_of_release'] >=2012]\n",
    "games_2012up"
   ]
  },
  {
   "cell_type": "code",
   "execution_count": 30,
   "id": "648eb50f-62d6-4b50-8efc-33326ff6f17a",
   "metadata": {},
   "outputs": [
    {
     "data": {
      "text/html": [
       "<div>\n",
       "<style scoped>\n",
       "    .dataframe tbody tr th:only-of-type {\n",
       "        vertical-align: middle;\n",
       "    }\n",
       "\n",
       "    .dataframe tbody tr th {\n",
       "        vertical-align: top;\n",
       "    }\n",
       "\n",
       "    .dataframe thead th {\n",
       "        text-align: right;\n",
       "    }\n",
       "</style>\n",
       "<table border=\"1\" class=\"dataframe\">\n",
       "  <thead>\n",
       "    <tr style=\"text-align: right;\">\n",
       "      <th></th>\n",
       "      <th>platform</th>\n",
       "      <th>total_sales</th>\n",
       "    </tr>\n",
       "  </thead>\n",
       "  <tbody>\n",
       "    <tr>\n",
       "      <th>4</th>\n",
       "      <td>PS4</td>\n",
       "      <td>314.14</td>\n",
       "    </tr>\n",
       "    <tr>\n",
       "      <th>3</th>\n",
       "      <td>PS3</td>\n",
       "      <td>289.71</td>\n",
       "    </tr>\n",
       "    <tr>\n",
       "      <th>9</th>\n",
       "      <td>X360</td>\n",
       "      <td>237.52</td>\n",
       "    </tr>\n",
       "    <tr>\n",
       "      <th>0</th>\n",
       "      <td>3DS</td>\n",
       "      <td>195.01</td>\n",
       "    </tr>\n",
       "    <tr>\n",
       "      <th>10</th>\n",
       "      <td>XOne</td>\n",
       "      <td>159.32</td>\n",
       "    </tr>\n",
       "    <tr>\n",
       "      <th>8</th>\n",
       "      <td>WiiU</td>\n",
       "      <td>82.19</td>\n",
       "    </tr>\n",
       "    <tr>\n",
       "      <th>2</th>\n",
       "      <td>PC</td>\n",
       "      <td>63.51</td>\n",
       "    </tr>\n",
       "    <tr>\n",
       "      <th>6</th>\n",
       "      <td>PSV</td>\n",
       "      <td>49.18</td>\n",
       "    </tr>\n",
       "    <tr>\n",
       "      <th>7</th>\n",
       "      <td>Wii</td>\n",
       "      <td>36.60</td>\n",
       "    </tr>\n",
       "    <tr>\n",
       "      <th>1</th>\n",
       "      <td>DS</td>\n",
       "      <td>13.21</td>\n",
       "    </tr>\n",
       "    <tr>\n",
       "      <th>5</th>\n",
       "      <td>PSP</td>\n",
       "      <td>11.69</td>\n",
       "    </tr>\n",
       "  </tbody>\n",
       "</table>\n",
       "</div>"
      ],
      "text/plain": [
       "   platform  total_sales\n",
       "4       PS4       314.14\n",
       "3       PS3       289.71\n",
       "9      X360       237.52\n",
       "0       3DS       195.01\n",
       "10     XOne       159.32\n",
       "8      WiiU        82.19\n",
       "2        PC        63.51\n",
       "6       PSV        49.18\n",
       "7       Wii        36.60\n",
       "1        DS        13.21\n",
       "5       PSP        11.69"
      ]
     },
     "execution_count": 30,
     "metadata": {},
     "output_type": "execute_result"
    }
   ],
   "source": [
    "#Which platforms are leading in sales? Which ones are growing or shrinking?\n",
    "games_2012up_platform = games_2012up.groupby('platform')['total_sales'].sum().reset_index()\n",
    "games_2012up_platform= games_2012up_platform.sort_values(by='total_sales', ascending=False)\n",
    "games_2012up_platform"
   ]
  },
  {
   "cell_type": "markdown",
   "id": "86fc5bc0-1dcc-4f76-af27-8f1088622690",
   "metadata": {},
   "source": [
    "##### In 2012-2016 period, 'PS4', 'PS3', 'X360', '3DS', 'XOne' are the plaforms corresponding to highest total sales.  'PS4' 'XOne' are growing and 'X360', 'PS3', '3DS' are shrinking. "
   ]
  },
  {
   "cell_type": "code",
   "execution_count": 32,
   "id": "22f1e8c0-e691-46a8-9a58-0e237f1a840c",
   "metadata": {},
   "outputs": [
    {
     "data": {
      "image/png": "[encoded data removed]",
      "text/plain": [
       "<Figure size 700x500 with 1 Axes>"
      ]
     },
     "metadata": {},
     "output_type": "display_data"
    }
   ],
   "source": [
    "#boxplot analysis\n",
    "plt.figure(figsize=(7, 5))\n",
    "plt.boxplot([games_2012up_platform[games_2012up_platform['platform'] == platform]['total_sales'] for platform in games_2012up_platform['platform'].unique()],\n",
    "            labels=games_2012up_platform['platform'].unique())\n",
    "plt.title('Total Sales by Platform (Box Plot)')\n",
    "plt.xlabel('Platform')\n",
    "plt.ylabel('Total Sales (in millions)')\n",
    "plt.grid(True)\n",
    "plt.show()"
   ]
  },
  {
   "cell_type": "code",
   "execution_count": 33,
   "id": "bddd17c7-ddb5-4451-91d1-538f45cbd8b4",
   "metadata": {},
   "outputs": [
    {
     "data": {
      "image/png": "[encoded data removed]",
      "text/plain": [
       "<Figure size 800x600 with 1 Axes>"
      ]
     },
     "metadata": {},
     "output_type": "display_data"
    },
    {
     "data": {
      "image/png": "[encoded data removed]",
      "text/plain": [
       "<Figure size 800x600 with 1 Axes>"
      ]
     },
     "metadata": {},
     "output_type": "display_data"
    },
    {
     "data": {
      "text/plain": [
       "0.10626901515270536"
      ]
     },
     "execution_count": 33,
     "metadata": {},
     "output_type": "execute_result"
    }
   ],
   "source": [
    "# we choose 'PS4' as a popular platform \n",
    "platform = 'PS4'\n",
    "\n",
    "platform_psv = games_2012up[games_2012up['platform'] == platform]\n",
    "\n",
    "#scatter plot: critic_score vs total_sales\n",
    "plt.figure(figsize=(8, 6))\n",
    "plt.scatter(platform_psv['critic_score'], platform_psv['total_sales'], color='blue', label='critic score')\n",
    "plt.title(f'critic score vs total sales for {platform}')\n",
    "plt.xlabel('critic score')\n",
    "plt.ylabel('total sales')\n",
    "plt.xlim(20, 100)\n",
    "plt.legend()\n",
    "plt.show()\n",
    "\n",
    "# build scatter plot: user score vs total sales\n",
    "plt.figure(figsize=(8, 6))\n",
    "plt.scatter(platform_psv['user_score'], platform_psv['total_sales'], color='green', label='User Score')\n",
    "plt.title(f'user score vs total sales for {platform}')\n",
    "plt.xlabel('User Score')\n",
    "plt.ylabel('Total Sales')\n",
    "plt.xlim(2, 10)\n",
    "plt.legend()\n",
    "plt.show()\n",
    "\n",
    "# Calculate Correlation\n",
    "correlation_critic = platform_psv['critic_score'].corr(platform_psv['total_sales'])\n",
    "correlation_user = platform_psv['user_score'].corr(platform_psv['total_sales'])\n",
    "correlation_critic\n",
    "correlation_user"
   ]
  },
  {
   "cell_type": "markdown",
   "id": "bcd22298-5655-4e33-a194-c3f7d04df496",
   "metadata": {},
   "source": [
    "##### correlation_critic_score vs total sales = 0.22754960627752652\n",
    "##### correlation_user_score vs total sales = 0.10626901515270536\n",
    "\n",
    "##### Both of them show weak positive correlation. "
   ]
  },
  {
   "cell_type": "code",
   "execution_count": 35,
   "id": "99f9cfc9-feab-428f-872b-feb24a683457",
   "metadata": {},
   "outputs": [
    {
     "data": {
      "image/png": "[encoded data removed]",
      "text/plain": [
       "<Figure size 800x600 with 1 Axes>"
      ]
     },
     "metadata": {},
     "output_type": "display_data"
    }
   ],
   "source": [
    " #compare the sales of the same games on other platforms\n",
    "platforms_other = games_2012up[games_2012up['platform'] != 'PSV']\n",
    "\n",
    "\n",
    "plt.figure(figsize=(8, 6))\n",
    "plt.scatter(platform_psv['critic_score'], platform_psv['total_sales'], color='blue', label='PS4')\n",
    "\n",
    "# Scatter plots for other platforms\n",
    "for platform in platforms_other['platform'].unique():\n",
    "    platform_data = platforms_other[platforms_other['platform'] == platform]\n",
    "    plt.scatter(platform_data['critic_score'], platform_data['total_sales'], label=platform)\n",
    "\n",
    "plt.title('Critic Score vs Total Sales Comparison Across Platforms')\n",
    "plt.xlabel('Critic Score')\n",
    "plt.ylabel('Total Sales')\n",
    "plt.xlim(20, 100)\n",
    "plt.legend()\n",
    "plt.show()\n"
   ]
  },
  {
   "cell_type": "markdown",
   "id": "7f1c4cbc-7b78-4e7c-adbf-79fcfe20f8e9",
   "metadata": {},
   "source": [
    "##### The plot shows similar weak positive correlation. \n"
   ]
  },
  {
   "cell_type": "code",
   "execution_count": 37,
   "id": "6a6ba748-2c7f-4a96-b4fd-070ed815d0e1",
   "metadata": {},
   "outputs": [
    {
     "data": {
      "image/png": "[encoded data removed]",
      "text/plain": [
       "<Figure size 800x500 with 1 Axes>"
      ]
     },
     "metadata": {},
     "output_type": "display_data"
    }
   ],
   "source": [
    "# we study the total sales by genre\n",
    "\n",
    "genre_sales = games_2012up.groupby('genre')['total_sales'].sum().sort_values(ascending=False)\n",
    "\n",
    "# Plotting the distribution of sales by genre\n",
    "plt.figure(figsize=(8, 5))\n",
    "plt.bar(genre_sales.index, genre_sales.values, color='brown')\n",
    "plt.title('Total Sales by Genre')\n",
    "plt.xlabel('Genre')\n",
    "plt.ylabel('Total Sales')\n",
    "plt.xticks(rotation=45)\n",
    "plt.tight_layout()\n",
    "plt.show()"
   ]
  },
  {
   "cell_type": "code",
   "execution_count": 38,
   "id": "a2953e9f",
   "metadata": {},
   "outputs": [
    {
     "data": {
      "image/png": "[encoded data removed]",
      "text/plain": [
       "<Figure size 800x500 with 1 Axes>"
      ]
     },
     "metadata": {},
     "output_type": "display_data"
    }
   ],
   "source": [
    "#here, we study the average of total sales by genre\n",
    "genre_sales = games_2012up.groupby('genre')['total_sales'].mean().sort_values(ascending=False)\n",
    "\n",
    "# Plotting the distribution of sales by genre\n",
    "plt.figure(figsize=(8, 5))\n",
    "plt.bar(genre_sales.index, genre_sales.values, color='brown')\n",
    "plt.title('Total Sales by Genre')\n",
    "plt.xlabel('Genre')\n",
    "plt.ylabel('Total Sales')\n",
    "plt.xticks(rotation=45)\n",
    "plt.tight_layout()\n",
    "plt.show()"
   ]
  },
  {
   "cell_type": "markdown",
   "id": "00f6a9d6-50ab-418e-91a7-efe196dab198",
   "metadata": {},
   "source": [
    "##### The figure indicates that the highest profitable genre is 'Action'. In addition, 'Shooter', 'Role-Playing' and 'Sports' are high profitable genres. These genres have broad audience with high market demand. In conrast, 'Puzzle' is the lowest profitable genre. Similarly, 'Strategy' and 'Adventure', are low profitable genres. These genres are demand of narrow audience and less popular. In addition to the genre, the total sales depend also on other factors such as marketing, local economic situation etc. For more detailed analysis, in the next section we study the dependence of total sales on regions. "
   ]
  },
  {
   "cell_type": "markdown",
   "id": "9770dc7a-1eed-4596-b729-c3edd7ffdc51",
   "metadata": {},
   "source": [
    "#### <span style=\"color: blue;\"> Step 4. Create a user profile for each region.</span>\n"
   ]
  },
  {
   "cell_type": "code",
   "execution_count": 41,
   "id": "3843fe78-cdb3-4cae-8a92-8e6245f57679",
   "metadata": {},
   "outputs": [],
   "source": [
    "#NA region\n",
    "exclude_eu_jp = ['eu_sales', 'jp_sales', 'other_sales', 'total_sales']\n",
    "games_2012up_na = games_2012up.drop(columns = exclude_eu_jp)\n",
    "\n",
    "#EU region\n",
    "exclude_na_jp = ['na_sales', 'jp_sales', 'other_sales', 'total_sales']\n",
    "games_2012up_eu = games_2012up.drop(columns = exclude_na_jp)\n",
    "\n",
    "#JP region\n",
    "exclude_na_eu = ['na_sales', 'eu_sales', 'other_sales', 'total_sales']\n",
    "games_2012up_jp = games_2012up.drop(columns = exclude_na_eu)\n"
   ]
  },
  {
   "cell_type": "markdown",
   "id": "e5294ebe-f261-4f65-bebc-d3183efa351b",
   "metadata": {},
   "source": [
    "#### Below we check the top five platform for each region."
   ]
  },
  {
   "cell_type": "code",
   "execution_count": 43,
   "id": "e5efd828-5c84-4ce9-babb-e27404d7b240",
   "metadata": {},
   "outputs": [
    {
     "data": {
      "text/html": [
       "<div>\n",
       "<style scoped>\n",
       "    .dataframe tbody tr th:only-of-type {\n",
       "        vertical-align: middle;\n",
       "    }\n",
       "\n",
       "    .dataframe tbody tr th {\n",
       "        vertical-align: top;\n",
       "    }\n",
       "\n",
       "    .dataframe thead th {\n",
       "        text-align: right;\n",
       "    }\n",
       "</style>\n",
       "<table border=\"1\" class=\"dataframe\">\n",
       "  <thead>\n",
       "    <tr style=\"text-align: right;\">\n",
       "      <th></th>\n",
       "      <th>platform</th>\n",
       "      <th>na_sales</th>\n",
       "    </tr>\n",
       "  </thead>\n",
       "  <tbody>\n",
       "    <tr>\n",
       "      <th>0</th>\n",
       "      <td>X360</td>\n",
       "      <td>140.57</td>\n",
       "    </tr>\n",
       "    <tr>\n",
       "      <th>1</th>\n",
       "      <td>PS4</td>\n",
       "      <td>108.74</td>\n",
       "    </tr>\n",
       "    <tr>\n",
       "      <th>2</th>\n",
       "      <td>PS3</td>\n",
       "      <td>103.74</td>\n",
       "    </tr>\n",
       "    <tr>\n",
       "      <th>3</th>\n",
       "      <td>XOne</td>\n",
       "      <td>93.12</td>\n",
       "    </tr>\n",
       "    <tr>\n",
       "      <th>4</th>\n",
       "      <td>3DS</td>\n",
       "      <td>55.49</td>\n",
       "    </tr>\n",
       "    <tr>\n",
       "      <th>5</th>\n",
       "      <td>WiiU</td>\n",
       "      <td>38.10</td>\n",
       "    </tr>\n",
       "    <tr>\n",
       "      <th>6</th>\n",
       "      <td>PC</td>\n",
       "      <td>19.26</td>\n",
       "    </tr>\n",
       "    <tr>\n",
       "      <th>7</th>\n",
       "      <td>Wii</td>\n",
       "      <td>18.14</td>\n",
       "    </tr>\n",
       "    <tr>\n",
       "      <th>8</th>\n",
       "      <td>PSV</td>\n",
       "      <td>10.98</td>\n",
       "    </tr>\n",
       "    <tr>\n",
       "      <th>9</th>\n",
       "      <td>DS</td>\n",
       "      <td>4.93</td>\n",
       "    </tr>\n",
       "    <tr>\n",
       "      <th>10</th>\n",
       "      <td>PSP</td>\n",
       "      <td>0.23</td>\n",
       "    </tr>\n",
       "  </tbody>\n",
       "</table>\n",
       "</div>"
      ],
      "text/plain": [
       "   platform  na_sales\n",
       "0      X360    140.57\n",
       "1       PS4    108.74\n",
       "2       PS3    103.74\n",
       "3      XOne     93.12\n",
       "4       3DS     55.49\n",
       "5      WiiU     38.10\n",
       "6        PC     19.26\n",
       "7       Wii     18.14\n",
       "8       PSV     10.98\n",
       "9        DS      4.93\n",
       "10      PSP      0.23"
      ]
     },
     "execution_count": 43,
     "metadata": {},
     "output_type": "execute_result"
    }
   ],
   "source": [
    "na_platform = games_2012up_na.groupby('platform')['na_sales'].sum().sort_values(ascending=False).reset_index()\n",
    "na_platform\n"
   ]
  },
  {
   "cell_type": "code",
   "execution_count": 44,
   "id": "a27ee943-e558-427b-9ede-c5c108cf2737",
   "metadata": {},
   "outputs": [
    {
     "data": {
      "text/html": [
       "<div>\n",
       "<style scoped>\n",
       "    .dataframe tbody tr th:only-of-type {\n",
       "        vertical-align: middle;\n",
       "    }\n",
       "\n",
       "    .dataframe tbody tr th {\n",
       "        vertical-align: top;\n",
       "    }\n",
       "\n",
       "    .dataframe thead th {\n",
       "        text-align: right;\n",
       "    }\n",
       "</style>\n",
       "<table border=\"1\" class=\"dataframe\">\n",
       "  <thead>\n",
       "    <tr style=\"text-align: right;\">\n",
       "      <th></th>\n",
       "      <th>platform</th>\n",
       "      <th>eu_sales</th>\n",
       "    </tr>\n",
       "  </thead>\n",
       "  <tbody>\n",
       "    <tr>\n",
       "      <th>0</th>\n",
       "      <td>PS4</td>\n",
       "      <td>141.09</td>\n",
       "    </tr>\n",
       "    <tr>\n",
       "      <th>1</th>\n",
       "      <td>PS3</td>\n",
       "      <td>107.27</td>\n",
       "    </tr>\n",
       "    <tr>\n",
       "      <th>2</th>\n",
       "      <td>X360</td>\n",
       "      <td>74.89</td>\n",
       "    </tr>\n",
       "    <tr>\n",
       "      <th>3</th>\n",
       "      <td>XOne</td>\n",
       "      <td>51.59</td>\n",
       "    </tr>\n",
       "    <tr>\n",
       "      <th>4</th>\n",
       "      <td>3DS</td>\n",
       "      <td>42.83</td>\n",
       "    </tr>\n",
       "    <tr>\n",
       "      <th>5</th>\n",
       "      <td>PC</td>\n",
       "      <td>38.38</td>\n",
       "    </tr>\n",
       "    <tr>\n",
       "      <th>6</th>\n",
       "      <td>WiiU</td>\n",
       "      <td>25.13</td>\n",
       "    </tr>\n",
       "    <tr>\n",
       "      <th>7</th>\n",
       "      <td>Wii</td>\n",
       "      <td>12.34</td>\n",
       "    </tr>\n",
       "    <tr>\n",
       "      <th>8</th>\n",
       "      <td>PSV</td>\n",
       "      <td>11.36</td>\n",
       "    </tr>\n",
       "    <tr>\n",
       "      <th>9</th>\n",
       "      <td>DS</td>\n",
       "      <td>3.78</td>\n",
       "    </tr>\n",
       "    <tr>\n",
       "      <th>10</th>\n",
       "      <td>PSP</td>\n",
       "      <td>0.52</td>\n",
       "    </tr>\n",
       "  </tbody>\n",
       "</table>\n",
       "</div>"
      ],
      "text/plain": [
       "   platform  eu_sales\n",
       "0       PS4    141.09\n",
       "1       PS3    107.27\n",
       "2      X360     74.89\n",
       "3      XOne     51.59\n",
       "4       3DS     42.83\n",
       "5        PC     38.38\n",
       "6      WiiU     25.13\n",
       "7       Wii     12.34\n",
       "8       PSV     11.36\n",
       "9        DS      3.78\n",
       "10      PSP      0.52"
      ]
     },
     "execution_count": 44,
     "metadata": {},
     "output_type": "execute_result"
    }
   ],
   "source": [
    "eu_platform = games_2012up_eu.groupby('platform')['eu_sales'].sum().sort_values(ascending=False).reset_index()\n",
    "eu_platform"
   ]
  },
  {
   "cell_type": "code",
   "execution_count": 45,
   "id": "563ee5eb-7e79-4043-b177-b8ec902f1e6f",
   "metadata": {},
   "outputs": [
    {
     "data": {
      "text/html": [
       "<div>\n",
       "<style scoped>\n",
       "    .dataframe tbody tr th:only-of-type {\n",
       "        vertical-align: middle;\n",
       "    }\n",
       "\n",
       "    .dataframe tbody tr th {\n",
       "        vertical-align: top;\n",
       "    }\n",
       "\n",
       "    .dataframe thead th {\n",
       "        text-align: right;\n",
       "    }\n",
       "</style>\n",
       "<table border=\"1\" class=\"dataframe\">\n",
       "  <thead>\n",
       "    <tr style=\"text-align: right;\">\n",
       "      <th></th>\n",
       "      <th>platform</th>\n",
       "      <th>jp_sales</th>\n",
       "    </tr>\n",
       "  </thead>\n",
       "  <tbody>\n",
       "    <tr>\n",
       "      <th>0</th>\n",
       "      <td>3DS</td>\n",
       "      <td>87.79</td>\n",
       "    </tr>\n",
       "    <tr>\n",
       "      <th>1</th>\n",
       "      <td>PS3</td>\n",
       "      <td>35.29</td>\n",
       "    </tr>\n",
       "    <tr>\n",
       "      <th>2</th>\n",
       "      <td>PSV</td>\n",
       "      <td>21.04</td>\n",
       "    </tr>\n",
       "    <tr>\n",
       "      <th>3</th>\n",
       "      <td>PS4</td>\n",
       "      <td>15.96</td>\n",
       "    </tr>\n",
       "    <tr>\n",
       "      <th>4</th>\n",
       "      <td>WiiU</td>\n",
       "      <td>13.01</td>\n",
       "    </tr>\n",
       "    <tr>\n",
       "      <th>5</th>\n",
       "      <td>PSP</td>\n",
       "      <td>10.71</td>\n",
       "    </tr>\n",
       "    <tr>\n",
       "      <th>6</th>\n",
       "      <td>DS</td>\n",
       "      <td>3.72</td>\n",
       "    </tr>\n",
       "    <tr>\n",
       "      <th>7</th>\n",
       "      <td>Wii</td>\n",
       "      <td>3.39</td>\n",
       "    </tr>\n",
       "    <tr>\n",
       "      <th>8</th>\n",
       "      <td>X360</td>\n",
       "      <td>1.57</td>\n",
       "    </tr>\n",
       "    <tr>\n",
       "      <th>9</th>\n",
       "      <td>XOne</td>\n",
       "      <td>0.34</td>\n",
       "    </tr>\n",
       "    <tr>\n",
       "      <th>10</th>\n",
       "      <td>PC</td>\n",
       "      <td>0.00</td>\n",
       "    </tr>\n",
       "  </tbody>\n",
       "</table>\n",
       "</div>"
      ],
      "text/plain": [
       "   platform  jp_sales\n",
       "0       3DS     87.79\n",
       "1       PS3     35.29\n",
       "2       PSV     21.04\n",
       "3       PS4     15.96\n",
       "4      WiiU     13.01\n",
       "5       PSP     10.71\n",
       "6        DS      3.72\n",
       "7       Wii      3.39\n",
       "8      X360      1.57\n",
       "9      XOne      0.34\n",
       "10       PC      0.00"
      ]
     },
     "execution_count": 45,
     "metadata": {},
     "output_type": "execute_result"
    }
   ],
   "source": [
    "jp_platform = games_2012up_jp.groupby('platform')['jp_sales'].sum().sort_values(ascending=False).reset_index()\n",
    "jp_platform"
   ]
  },
  {
   "cell_type": "markdown",
   "id": "91d52e09-66ea-4bee-ae9c-3957691efe79",
   "metadata": {
    "jp-MarkdownHeadingCollapsed": true
   },
   "source": [
    "#### Top five platforms for each region: \n",
    "\n",
    "1. NA   -  'X360', 'PS4', 'PS3', 'XOne', '3DS'\n",
    "2. EU   -  'PS4', 'PS3', 'X360', 'XOne', 3DS'\n",
    "3. JP   -  '3DS', 'PS3', 'PSV', 'PS4', 'WiiU'\n",
    "\n",
    "##### Common top five platforms for all three regions: 'PS4', 'PS3', '3DS'.  'PS3' is in top three platforms for all three regions. \n",
    "##### Common for NA and EUs:  'PS4'.  it is among the top two platforms for these regions. \n"
   ]
  },
  {
   "cell_type": "markdown",
   "id": "76f9f7f0-0b92-4c23-a4a0-9e935ea627cc",
   "metadata": {},
   "source": [
    "#### Below, we figure out top five genres for each region."
   ]
  },
  {
   "cell_type": "code",
   "execution_count": 48,
   "id": "486ba069-1d6c-4bae-847c-993e1347bb6f",
   "metadata": {},
   "outputs": [
    {
     "data": {
      "text/html": [
       "<div>\n",
       "<style scoped>\n",
       "    .dataframe tbody tr th:only-of-type {\n",
       "        vertical-align: middle;\n",
       "    }\n",
       "\n",
       "    .dataframe tbody tr th {\n",
       "        vertical-align: top;\n",
       "    }\n",
       "\n",
       "    .dataframe thead th {\n",
       "        text-align: right;\n",
       "    }\n",
       "</style>\n",
       "<table border=\"1\" class=\"dataframe\">\n",
       "  <thead>\n",
       "    <tr style=\"text-align: right;\">\n",
       "      <th></th>\n",
       "      <th>genre</th>\n",
       "      <th>na_sales</th>\n",
       "    </tr>\n",
       "  </thead>\n",
       "  <tbody>\n",
       "    <tr>\n",
       "      <th>0</th>\n",
       "      <td>Action</td>\n",
       "      <td>180.15</td>\n",
       "    </tr>\n",
       "    <tr>\n",
       "      <th>1</th>\n",
       "      <td>Shooter</td>\n",
       "      <td>144.79</td>\n",
       "    </tr>\n",
       "    <tr>\n",
       "      <th>2</th>\n",
       "      <td>Sports</td>\n",
       "      <td>81.53</td>\n",
       "    </tr>\n",
       "    <tr>\n",
       "      <th>3</th>\n",
       "      <td>Role-Playing</td>\n",
       "      <td>64.00</td>\n",
       "    </tr>\n",
       "    <tr>\n",
       "      <th>4</th>\n",
       "      <td>Misc</td>\n",
       "      <td>38.19</td>\n",
       "    </tr>\n",
       "    <tr>\n",
       "      <th>5</th>\n",
       "      <td>Platform</td>\n",
       "      <td>25.38</td>\n",
       "    </tr>\n",
       "    <tr>\n",
       "      <th>6</th>\n",
       "      <td>Fighting</td>\n",
       "      <td>19.79</td>\n",
       "    </tr>\n",
       "    <tr>\n",
       "      <th>7</th>\n",
       "      <td>Racing</td>\n",
       "      <td>17.22</td>\n",
       "    </tr>\n",
       "    <tr>\n",
       "      <th>8</th>\n",
       "      <td>Adventure</td>\n",
       "      <td>8.92</td>\n",
       "    </tr>\n",
       "    <tr>\n",
       "      <th>9</th>\n",
       "      <td>Simulation</td>\n",
       "      <td>7.97</td>\n",
       "    </tr>\n",
       "    <tr>\n",
       "      <th>10</th>\n",
       "      <td>Strategy</td>\n",
       "      <td>4.23</td>\n",
       "    </tr>\n",
       "    <tr>\n",
       "      <th>11</th>\n",
       "      <td>Puzzle</td>\n",
       "      <td>1.13</td>\n",
       "    </tr>\n",
       "  </tbody>\n",
       "</table>\n",
       "</div>"
      ],
      "text/plain": [
       "           genre  na_sales\n",
       "0         Action    180.15\n",
       "1        Shooter    144.79\n",
       "2         Sports     81.53\n",
       "3   Role-Playing     64.00\n",
       "4           Misc     38.19\n",
       "5       Platform     25.38\n",
       "6       Fighting     19.79\n",
       "7         Racing     17.22\n",
       "8      Adventure      8.92\n",
       "9     Simulation      7.97\n",
       "10      Strategy      4.23\n",
       "11        Puzzle      1.13"
      ]
     },
     "execution_count": 48,
     "metadata": {},
     "output_type": "execute_result"
    }
   ],
   "source": [
    "na_genre = games_2012up_na.groupby('genre')['na_sales'].sum().sort_values(ascending=False).reset_index()\n",
    "na_genre"
   ]
  },
  {
   "cell_type": "code",
   "execution_count": 49,
   "id": "cd50e0a6-25ec-4a48-9fde-43fe2f4f3c8a",
   "metadata": {},
   "outputs": [
    {
     "data": {
      "text/html": [
       "<div>\n",
       "<style scoped>\n",
       "    .dataframe tbody tr th:only-of-type {\n",
       "        vertical-align: middle;\n",
       "    }\n",
       "\n",
       "    .dataframe tbody tr th {\n",
       "        vertical-align: top;\n",
       "    }\n",
       "\n",
       "    .dataframe thead th {\n",
       "        text-align: right;\n",
       "    }\n",
       "</style>\n",
       "<table border=\"1\" class=\"dataframe\">\n",
       "  <thead>\n",
       "    <tr style=\"text-align: right;\">\n",
       "      <th></th>\n",
       "      <th>genre</th>\n",
       "      <th>eu_sales</th>\n",
       "    </tr>\n",
       "  </thead>\n",
       "  <tbody>\n",
       "    <tr>\n",
       "      <th>0</th>\n",
       "      <td>Action</td>\n",
       "      <td>161.70</td>\n",
       "    </tr>\n",
       "    <tr>\n",
       "      <th>1</th>\n",
       "      <td>Shooter</td>\n",
       "      <td>113.47</td>\n",
       "    </tr>\n",
       "    <tr>\n",
       "      <th>2</th>\n",
       "      <td>Sports</td>\n",
       "      <td>69.09</td>\n",
       "    </tr>\n",
       "    <tr>\n",
       "      <th>3</th>\n",
       "      <td>Role-Playing</td>\n",
       "      <td>48.53</td>\n",
       "    </tr>\n",
       "    <tr>\n",
       "      <th>4</th>\n",
       "      <td>Racing</td>\n",
       "      <td>27.29</td>\n",
       "    </tr>\n",
       "    <tr>\n",
       "      <th>5</th>\n",
       "      <td>Misc</td>\n",
       "      <td>26.32</td>\n",
       "    </tr>\n",
       "    <tr>\n",
       "      <th>6</th>\n",
       "      <td>Platform</td>\n",
       "      <td>21.41</td>\n",
       "    </tr>\n",
       "    <tr>\n",
       "      <th>7</th>\n",
       "      <td>Simulation</td>\n",
       "      <td>14.55</td>\n",
       "    </tr>\n",
       "    <tr>\n",
       "      <th>8</th>\n",
       "      <td>Fighting</td>\n",
       "      <td>10.79</td>\n",
       "    </tr>\n",
       "    <tr>\n",
       "      <th>9</th>\n",
       "      <td>Adventure</td>\n",
       "      <td>9.46</td>\n",
       "    </tr>\n",
       "    <tr>\n",
       "      <th>10</th>\n",
       "      <td>Strategy</td>\n",
       "      <td>5.17</td>\n",
       "    </tr>\n",
       "    <tr>\n",
       "      <th>11</th>\n",
       "      <td>Puzzle</td>\n",
       "      <td>1.40</td>\n",
       "    </tr>\n",
       "  </tbody>\n",
       "</table>\n",
       "</div>"
      ],
      "text/plain": [
       "           genre  eu_sales\n",
       "0         Action    161.70\n",
       "1        Shooter    113.47\n",
       "2         Sports     69.09\n",
       "3   Role-Playing     48.53\n",
       "4         Racing     27.29\n",
       "5           Misc     26.32\n",
       "6       Platform     21.41\n",
       "7     Simulation     14.55\n",
       "8       Fighting     10.79\n",
       "9      Adventure      9.46\n",
       "10      Strategy      5.17\n",
       "11        Puzzle      1.40"
      ]
     },
     "execution_count": 49,
     "metadata": {},
     "output_type": "execute_result"
    }
   ],
   "source": [
    "eu_genre = games_2012up_eu.groupby('genre')['eu_sales'].sum().sort_values(ascending=False).reset_index()\n",
    "eu_genre"
   ]
  },
  {
   "cell_type": "code",
   "execution_count": 50,
   "id": "031662de-1af6-448c-9df6-87cb9c0dc846",
   "metadata": {},
   "outputs": [
    {
     "data": {
      "text/html": [
       "<div>\n",
       "<style scoped>\n",
       "    .dataframe tbody tr th:only-of-type {\n",
       "        vertical-align: middle;\n",
       "    }\n",
       "\n",
       "    .dataframe tbody tr th {\n",
       "        vertical-align: top;\n",
       "    }\n",
       "\n",
       "    .dataframe thead th {\n",
       "        text-align: right;\n",
       "    }\n",
       "</style>\n",
       "<table border=\"1\" class=\"dataframe\">\n",
       "  <thead>\n",
       "    <tr style=\"text-align: right;\">\n",
       "      <th></th>\n",
       "      <th>genre</th>\n",
       "      <th>jp_sales</th>\n",
       "    </tr>\n",
       "  </thead>\n",
       "  <tbody>\n",
       "    <tr>\n",
       "      <th>0</th>\n",
       "      <td>Role-Playing</td>\n",
       "      <td>65.44</td>\n",
       "    </tr>\n",
       "    <tr>\n",
       "      <th>1</th>\n",
       "      <td>Action</td>\n",
       "      <td>52.80</td>\n",
       "    </tr>\n",
       "    <tr>\n",
       "      <th>2</th>\n",
       "      <td>Misc</td>\n",
       "      <td>13.10</td>\n",
       "    </tr>\n",
       "    <tr>\n",
       "      <th>3</th>\n",
       "      <td>Simulation</td>\n",
       "      <td>10.41</td>\n",
       "    </tr>\n",
       "    <tr>\n",
       "      <th>4</th>\n",
       "      <td>Fighting</td>\n",
       "      <td>9.44</td>\n",
       "    </tr>\n",
       "    <tr>\n",
       "      <th>5</th>\n",
       "      <td>Shooter</td>\n",
       "      <td>9.23</td>\n",
       "    </tr>\n",
       "    <tr>\n",
       "      <th>6</th>\n",
       "      <td>Platform</td>\n",
       "      <td>8.63</td>\n",
       "    </tr>\n",
       "    <tr>\n",
       "      <th>7</th>\n",
       "      <td>Adventure</td>\n",
       "      <td>8.24</td>\n",
       "    </tr>\n",
       "    <tr>\n",
       "      <th>8</th>\n",
       "      <td>Sports</td>\n",
       "      <td>8.01</td>\n",
       "    </tr>\n",
       "    <tr>\n",
       "      <th>9</th>\n",
       "      <td>Strategy</td>\n",
       "      <td>2.88</td>\n",
       "    </tr>\n",
       "    <tr>\n",
       "      <th>10</th>\n",
       "      <td>Racing</td>\n",
       "      <td>2.50</td>\n",
       "    </tr>\n",
       "    <tr>\n",
       "      <th>11</th>\n",
       "      <td>Puzzle</td>\n",
       "      <td>2.14</td>\n",
       "    </tr>\n",
       "  </tbody>\n",
       "</table>\n",
       "</div>"
      ],
      "text/plain": [
       "           genre  jp_sales\n",
       "0   Role-Playing     65.44\n",
       "1         Action     52.80\n",
       "2           Misc     13.10\n",
       "3     Simulation     10.41\n",
       "4       Fighting      9.44\n",
       "5        Shooter      9.23\n",
       "6       Platform      8.63\n",
       "7      Adventure      8.24\n",
       "8         Sports      8.01\n",
       "9       Strategy      2.88\n",
       "10        Racing      2.50\n",
       "11        Puzzle      2.14"
      ]
     },
     "execution_count": 50,
     "metadata": {},
     "output_type": "execute_result"
    }
   ],
   "source": [
    "jp_genre = games_2012up_jp.groupby('genre')['jp_sales'].sum().sort_values(ascending=False).reset_index()\n",
    "jp_genre"
   ]
  },
  {
   "cell_type": "markdown",
   "id": "f31f3037-c153-4807-a8ad-a12782a35ce6",
   "metadata": {},
   "source": [
    "#### Top five genres for each region: \n",
    "\n",
    "1. NA  -  'Action', 'Shooter', 'Sports', 'Role_Playing', 'Misc'; \n",
    "2. EU  -  'Action', 'Shooter', 'Sports', 'Role_Playing', 'Racing';\n",
    "3. JP  -  'Role_Playing', 'Action', 'Misc', 'Simulation', 'Fighting'.\n",
    "\n",
    "##### Common top five platforms for all three regions: 'Action', 'Role-Playing'.  'Action' is in top two platforms for all three regions.\n",
    "\n",
    "##### 'Sports' is in the top five genres for NA and EU region, while it is not For JP region. \n",
    "##### 'Simulation' is among top five for JP, while it is not for EU and NA regions.\n",
    " "
   ]
  },
  {
   "cell_type": "markdown",
   "id": "a845f15a-d60e-43cd-8086-4130692bf7ec",
   "metadata": {},
   "source": [
    "#### <span style=\"color: blue;\"> Next we figure out whether the ratings affect sales of the regions.</span>"
   ]
  },
  {
   "cell_type": "code",
   "execution_count": 53,
   "id": "30f20a29-5622-46dd-867d-04e896ac13e3",
   "metadata": {},
   "outputs": [
    {
     "data": {
      "text/html": [
       "<div>\n",
       "<style scoped>\n",
       "    .dataframe tbody tr th:only-of-type {\n",
       "        vertical-align: middle;\n",
       "    }\n",
       "\n",
       "    .dataframe tbody tr th {\n",
       "        vertical-align: top;\n",
       "    }\n",
       "\n",
       "    .dataframe thead th {\n",
       "        text-align: right;\n",
       "    }\n",
       "</style>\n",
       "<table border=\"1\" class=\"dataframe\">\n",
       "  <thead>\n",
       "    <tr style=\"text-align: right;\">\n",
       "      <th></th>\n",
       "      <th>rating</th>\n",
       "      <th>na_sales</th>\n",
       "    </tr>\n",
       "  </thead>\n",
       "  <tbody>\n",
       "    <tr>\n",
       "      <th>0</th>\n",
       "      <td>M</td>\n",
       "      <td>231.67</td>\n",
       "    </tr>\n",
       "    <tr>\n",
       "      <th>1</th>\n",
       "      <td>E</td>\n",
       "      <td>114.37</td>\n",
       "    </tr>\n",
       "    <tr>\n",
       "      <th>2</th>\n",
       "      <td>unknown</td>\n",
       "      <td>103.31</td>\n",
       "    </tr>\n",
       "    <tr>\n",
       "      <th>3</th>\n",
       "      <td>E10+</td>\n",
       "      <td>77.93</td>\n",
       "    </tr>\n",
       "    <tr>\n",
       "      <th>4</th>\n",
       "      <td>T</td>\n",
       "      <td>66.02</td>\n",
       "    </tr>\n",
       "  </tbody>\n",
       "</table>\n",
       "</div>"
      ],
      "text/plain": [
       "    rating  na_sales\n",
       "0        M    231.67\n",
       "1        E    114.37\n",
       "2  unknown    103.31\n",
       "3     E10+     77.93\n",
       "4        T     66.02"
      ]
     },
     "execution_count": 53,
     "metadata": {},
     "output_type": "execute_result"
    }
   ],
   "source": [
    "na_genre = games_2012up_na.groupby('rating')['na_sales'].sum().sort_values(ascending=False).reset_index()\n",
    "na_genre"
   ]
  },
  {
   "cell_type": "code",
   "execution_count": 54,
   "id": "06301fb8-2688-453f-8633-33f241bd14c7",
   "metadata": {},
   "outputs": [
    {
     "data": {
      "text/html": [
       "<div>\n",
       "<style scoped>\n",
       "    .dataframe tbody tr th:only-of-type {\n",
       "        vertical-align: middle;\n",
       "    }\n",
       "\n",
       "    .dataframe tbody tr th {\n",
       "        vertical-align: top;\n",
       "    }\n",
       "\n",
       "    .dataframe thead th {\n",
       "        text-align: right;\n",
       "    }\n",
       "</style>\n",
       "<table border=\"1\" class=\"dataframe\">\n",
       "  <thead>\n",
       "    <tr style=\"text-align: right;\">\n",
       "      <th></th>\n",
       "      <th>rating</th>\n",
       "      <th>eu_sales</th>\n",
       "    </tr>\n",
       "  </thead>\n",
       "  <tbody>\n",
       "    <tr>\n",
       "      <th>0</th>\n",
       "      <td>M</td>\n",
       "      <td>194.44</td>\n",
       "    </tr>\n",
       "    <tr>\n",
       "      <th>1</th>\n",
       "      <td>E</td>\n",
       "      <td>113.03</td>\n",
       "    </tr>\n",
       "    <tr>\n",
       "      <th>2</th>\n",
       "      <td>unknown</td>\n",
       "      <td>91.50</td>\n",
       "    </tr>\n",
       "    <tr>\n",
       "      <th>3</th>\n",
       "      <td>E10+</td>\n",
       "      <td>57.25</td>\n",
       "    </tr>\n",
       "    <tr>\n",
       "      <th>4</th>\n",
       "      <td>T</td>\n",
       "      <td>52.96</td>\n",
       "    </tr>\n",
       "  </tbody>\n",
       "</table>\n",
       "</div>"
      ],
      "text/plain": [
       "    rating  eu_sales\n",
       "0        M    194.44\n",
       "1        E    113.03\n",
       "2  unknown     91.50\n",
       "3     E10+     57.25\n",
       "4        T     52.96"
      ]
     },
     "execution_count": 54,
     "metadata": {},
     "output_type": "execute_result"
    }
   ],
   "source": [
    "eu_genre = games_2012up_eu.groupby('rating')['eu_sales'].sum().sort_values(ascending=False).reset_index()\n",
    "eu_genre"
   ]
  },
  {
   "cell_type": "code",
   "execution_count": 55,
   "id": "fa028f33-9b01-40ee-9a72-27e63e62b1b1",
   "metadata": {},
   "outputs": [
    {
     "data": {
      "text/html": [
       "<div>\n",
       "<style scoped>\n",
       "    .dataframe tbody tr th:only-of-type {\n",
       "        vertical-align: middle;\n",
       "    }\n",
       "\n",
       "    .dataframe tbody tr th {\n",
       "        vertical-align: top;\n",
       "    }\n",
       "\n",
       "    .dataframe thead th {\n",
       "        text-align: right;\n",
       "    }\n",
       "</style>\n",
       "<table border=\"1\" class=\"dataframe\">\n",
       "  <thead>\n",
       "    <tr style=\"text-align: right;\">\n",
       "      <th></th>\n",
       "      <th>rating</th>\n",
       "      <th>jp_sales</th>\n",
       "    </tr>\n",
       "  </thead>\n",
       "  <tbody>\n",
       "    <tr>\n",
       "      <th>0</th>\n",
       "      <td>unknown</td>\n",
       "      <td>109.08</td>\n",
       "    </tr>\n",
       "    <tr>\n",
       "      <th>1</th>\n",
       "      <td>E</td>\n",
       "      <td>28.33</td>\n",
       "    </tr>\n",
       "    <tr>\n",
       "      <th>2</th>\n",
       "      <td>T</td>\n",
       "      <td>26.02</td>\n",
       "    </tr>\n",
       "    <tr>\n",
       "      <th>3</th>\n",
       "      <td>M</td>\n",
       "      <td>21.20</td>\n",
       "    </tr>\n",
       "    <tr>\n",
       "      <th>4</th>\n",
       "      <td>E10+</td>\n",
       "      <td>8.19</td>\n",
       "    </tr>\n",
       "  </tbody>\n",
       "</table>\n",
       "</div>"
      ],
      "text/plain": [
       "    rating  jp_sales\n",
       "0  unknown    109.08\n",
       "1        E     28.33\n",
       "2        T     26.02\n",
       "3        M     21.20\n",
       "4     E10+      8.19"
      ]
     },
     "execution_count": 55,
     "metadata": {},
     "output_type": "execute_result"
    }
   ],
   "source": [
    "jp_genre = games_2012up_jp.groupby('rating')['jp_sales'].sum().sort_values(ascending=False).reset_index()\n",
    "jp_genre"
   ]
  },
  {
   "cell_type": "code",
   "execution_count": 56,
   "id": "9b3b6435",
   "metadata": {},
   "outputs": [
    {
     "data": {
      "text/plain": [
       "array(['M', 'unknown', 'E', 'E10+', 'T'], dtype=object)"
      ]
     },
     "execution_count": 56,
     "metadata": {},
     "output_type": "execute_result"
    }
   ],
   "source": [
    "games_2012up['rating'].unique()"
   ]
  },
  {
   "cell_type": "code",
   "execution_count": 57,
   "id": "302c6c20",
   "metadata": {},
   "outputs": [
    {
     "data": {
      "image/png": "[encoded data removed]",
      "text/plain": [
       "<Figure size 1500x500 with 3 Axes>"
      ]
     },
     "metadata": {},
     "output_type": "display_data"
    }
   ],
   "source": [
    "# bar plot of ratings for all three regions\n",
    "\n",
    "fig, axs = plt.subplots(1, 3, figsize=(15, 5))\n",
    "\n",
    "# na bar plot\n",
    "axs[0].bar(na_genre['rating'], na_genre['na_sales'], color='lightcoral')\n",
    "axs[0].set_title('na region')\n",
    "axs[0].set_xlabel('ratings')\n",
    "axs[0].set_ylabel('na_sales')\n",
    "\n",
    "# Plot the second bar plot\n",
    "axs[1].bar(eu_genre['rating'], eu_genre['eu_sales'], color='lightcoral')\n",
    "axs[1].set_title('eu region')\n",
    "axs[1].set_xlabel('ratings')\n",
    "axs[1].set_ylabel('eu_sales')\n",
    "\n",
    "# Plot the third bar plot\n",
    "axs[2].bar(jp_genre['rating'], jp_genre['jp_sales'], color='lightcoral')\n",
    "axs[2].set_title('jp region')\n",
    "axs[2].set_xlabel('ratings')\n",
    "axs[2].set_ylabel('jp_sales')\n",
    "\n",
    "# Adjust layout to prevent overlap\n",
    "plt.tight_layout()\n",
    "plt.show()"
   ]
  },
  {
   "cell_type": "markdown",
   "id": "b55971c4-6490-4738-9299-3d931ab33824",
   "metadata": {},
   "source": [
    "##### For all three regions 'E(everyone)' rating is popular and mostly sold games."
   ]
  },
  {
   "cell_type": "markdown",
   "id": "6262158d-874b-4678-837e-43e19194e159",
   "metadata": {},
   "source": [
    "#### <span style=\"color: blue;\"> Step 5. Statistical Test of Hypotheses.</span>"
   ]
  },
  {
   "cell_type": "code",
   "execution_count": 60,
   "id": "a823e186-59b0-4ae8-b6e6-aeee864cca79",
   "metadata": {},
   "outputs": [
    {
     "name": "stdout",
     "output_type": "stream",
     "text": [
      "-1.6986539718739488\n",
      "0.09000649557527764\n",
      "Accept null hypothesis. The mean values are equal.\n"
     ]
    }
   ],
   "source": [
    "#Average user ratings of the Xbox One and PC platforms are the same.\n",
    "# First we filter the data for two platforms. \n",
    "#We test hypothesis on equality of the two independent population means:\n",
    "#H0 (0 hypothesis) - means of two populations are equal;\n",
    "#H1 (alternative hypothesis) - means of two populations are not equal;\n",
    "\n",
    "XOne_rating = games_2012up[games_2012up['platform']=='XOne']['user_score']\n",
    "PC_rating = games_2012up[games_2012up['platform']=='PC']['user_score']\n",
    "\n",
    "alpha = 0.09\n",
    "\n",
    "t_stat, p_value = st.ttest_ind(XOne_rating, PC_rating)\n",
    "\n",
    "print(t_stat)\n",
    "print(p_value)\n",
    "\n",
    "if p_value <= alpha:\n",
    "    print('Reject nul hypothesis. The mean values are not equal.')\n",
    "else:\n",
    "    print('Accept null hypothesis. The mean values are equal.')\n",
    "\n"
   ]
  },
  {
   "cell_type": "markdown",
   "id": "7fbea5df-41cc-4a0c-8dbf-c6486679cdcc",
   "metadata": {},
   "source": [
    "##### The above performed hypothesis test shows that: \n",
    "##### 1. when alpa<=0.09 we accept hull hypothesis, so mean values of XOne_rating and PC_rating are equal. \n",
    "##### 2. when alpa>=0.1, we reject null hypothesis: mean values of XOne_rating and PC_rating are not equal. "
   ]
  },
  {
   "cell_type": "code",
   "execution_count": 62,
   "id": "b6352641-e77b-44c9-865a-6a7f8f4361d2",
   "metadata": {},
   "outputs": [
    {
     "name": "stdout",
     "output_type": "stream",
     "text": [
      "-2.511501423788312\n",
      "0.01214168088851893\n",
      "Accept nul hypothesis. The mean values are not equal.\n"
     ]
    }
   ],
   "source": [
    "#Average user ratings for the Action and Sports genres are different.\n",
    "# First we filter the data for two platforms. \n",
    "#Again we test hypothesis on equality of the two independent population means, but here our hypothesis will be diffrenet:\n",
    "#H0 (0 hypothesis) - means of two populations are not equal;\n",
    "#H1 (alternative hypothesis) - means of two populations are equal;\n",
    "\n",
    "Action_rating = games_2012up[games_2012up['genre']=='Action']['user_score']\n",
    "Sports_rating = games_2012up[games_2012up['genre']=='Sports']['user_score']\n",
    "\n",
    "alpha = 0.05\n",
    "\n",
    "t_stat, p_value = st.ttest_ind(Action_rating, Sports_rating)\n",
    "\n",
    "print(t_stat)\n",
    "print(p_value)\n",
    "\n",
    "if p_value <= alpha:\n",
    "    print('Accept nul hypothesis. The mean values are not equal.')\n",
    "else:\n",
    "    print('Reject null hypothesis. The mean values are equal.')\n"
   ]
  },
  {
   "cell_type": "markdown",
   "id": "a26ba177-c461-4a95-81e4-3adfaad6e83a",
   "metadata": {},
   "source": [
    "##### The above performed hypothesis test shows that: \n",
    "##### 1. when alpa<=0.01 we reject hull hypothesis, so mean values of Action_rating and Sports_rating are equal. \n",
    "##### 2. when alpa>=0.02, we accept null hypothesis: mean values of Action_rating and Sports_rating are not equal. "
   ]
  },
  {
   "cell_type": "markdown",
   "id": "cadc1ec5-59bd-4afa-864d-e391e7d5ce27",
   "metadata": {},
   "source": [
    "# Conclusions\n",
    "In this analysis of the games dataset covering the period from 1980 to 2016, we focused on key factors such as platform popularity, platform lifecycle, total sales, and genre performance. For the 2017 campaign, we specifically examined data from 2012 to 2016 and analyzed it across three major regions: North America (NA), Europe (EU), and Japan (JP).\n",
    "\n",
    "Key findings include:\n",
    "\n",
    "1. Platform Sales Trends (2012-2016): The platforms with the highest total sales during this period were the 'PS4', 'PS3', 'X360', '3DS', and 'XOne'. Among these, 'PS4' and 'XOne' are showing growth, while 'X360', 'PS3', and '3DS' are experiencing a decline in sales.\n",
    "\n",
    "2. Genre Profitability: The most profitable genre is 'Action', followed by 'Shooter', 'Role-Playing', and 'Sports'. These genres appeal to broad audiences, resulting in high demand. In contrast, 'Puzzle' is the least profitable, with 'Strategy' and 'Adventure' also performing poorly. These genres tend to cater to niche audiences, leading to lower popularity.\n",
    "\n",
    "3. Correlation between Reviews and Sales: There is a weak positive correlation (ranging from 0.1 to 0.2) between user reviews and total sales, suggesting that reviews have a modest impact on sales figures.\n",
    "\n",
    "4. Regional Differences: The data analysis reveals that sales and platform preferences are quite similar between the NA and EU regions, while the JP region shows some noticeable differences in gaming preferences and sales patterns.\n",
    "\n",
    "5. Statistical Analysis Results: Hypothesis testing revealed:\n",
    "\n",
    "No significant difference in average user ratings between the 'Xbox One' and 'PC' platforms.\n",
    "A statistically significant difference in user ratings between the 'Action' and 'Sports' genres, indicating different audience perceptions of these genres.\n",
    "Overall, this analysis provides valuable insights for the 2017 campaign, highlighting key platforms, profitable genres, and regional trends that can inform strategic decisions in the gaming industry.\n"
   ]
  }
 ],
 "metadata": {
  "ExecuteTimeLog": [
   {
    "duration": 4792,
    "start_time": "2024-07-26T15:00:29.635Z"
   },
   {
    "duration": 1127,
    "start_time": "2024-07-26T15:00:34.432Z"
   },
   {
    "duration": 0,
    "start_time": "2024-07-26T15:00:35.564Z"
   },
   {
    "duration": 0,
    "start_time": "2024-07-26T15:00:35.567Z"
   },
   {
    "duration": 0,
    "start_time": "2024-07-26T15:00:35.570Z"
   },
   {
    "duration": 0,
    "start_time": "2024-07-26T15:00:35.572Z"
   },
   {
    "duration": 0,
    "start_time": "2024-07-26T15:00:35.576Z"
   },
   {
    "duration": 0,
    "start_time": "2024-07-26T15:00:35.577Z"
   },
   {
    "duration": 0,
    "start_time": "2024-07-26T15:00:35.579Z"
   },
   {
    "duration": 0,
    "start_time": "2024-07-26T15:00:35.582Z"
   },
   {
    "duration": 0,
    "start_time": "2024-07-26T15:00:35.584Z"
   },
   {
    "duration": 0,
    "start_time": "2024-07-26T15:00:35.586Z"
   },
   {
    "duration": 0,
    "start_time": "2024-07-26T15:00:35.623Z"
   },
   {
    "duration": 0,
    "start_time": "2024-07-26T15:00:35.626Z"
   },
   {
    "duration": 0,
    "start_time": "2024-07-26T15:00:35.631Z"
   },
   {
    "duration": 0,
    "start_time": "2024-07-26T15:00:35.633Z"
   },
   {
    "duration": 0,
    "start_time": "2024-07-26T15:00:35.636Z"
   },
   {
    "duration": 0,
    "start_time": "2024-07-26T15:00:35.638Z"
   },
   {
    "duration": 0,
    "start_time": "2024-07-26T15:00:35.641Z"
   },
   {
    "duration": 0,
    "start_time": "2024-07-26T15:00:35.644Z"
   },
   {
    "duration": 0,
    "start_time": "2024-07-26T15:00:35.647Z"
   },
   {
    "duration": 0,
    "start_time": "2024-07-26T15:00:35.649Z"
   },
   {
    "duration": 0,
    "start_time": "2024-07-26T15:00:35.652Z"
   },
   {
    "duration": 0,
    "start_time": "2024-07-26T15:00:35.654Z"
   },
   {
    "duration": 0,
    "start_time": "2024-07-26T15:00:35.656Z"
   },
   {
    "duration": 0,
    "start_time": "2024-07-26T15:00:35.659Z"
   },
   {
    "duration": 0,
    "start_time": "2024-07-26T15:00:35.660Z"
   },
   {
    "duration": 1,
    "start_time": "2024-07-26T15:00:35.722Z"
   },
   {
    "duration": 0,
    "start_time": "2024-07-26T15:00:35.725Z"
   },
   {
    "duration": 0,
    "start_time": "2024-07-26T15:00:35.727Z"
   },
   {
    "duration": 0,
    "start_time": "2024-07-26T15:00:35.729Z"
   },
   {
    "duration": 0,
    "start_time": "2024-07-26T15:00:35.731Z"
   },
   {
    "duration": 0,
    "start_time": "2024-07-26T15:00:35.733Z"
   },
   {
    "duration": 0,
    "start_time": "2024-07-26T15:00:35.735Z"
   },
   {
    "duration": 4837,
    "start_time": "2024-07-26T16:35:49.080Z"
   },
   {
    "duration": 71,
    "start_time": "2024-07-26T16:35:53.921Z"
   },
   {
    "duration": 63,
    "start_time": "2024-07-26T16:40:33.669Z"
   },
   {
    "duration": 4,
    "start_time": "2024-07-26T17:09:18.911Z"
   },
   {
    "duration": 49,
    "start_time": "2024-07-26T17:09:20.580Z"
   },
   {
    "duration": 23,
    "start_time": "2024-07-26T17:09:23.614Z"
   },
   {
    "duration": 23,
    "start_time": "2024-07-26T17:09:24.250Z"
   },
   {
    "duration": 5,
    "start_time": "2024-07-26T17:09:24.981Z"
   },
   {
    "duration": 36,
    "start_time": "2024-07-26T17:09:25.662Z"
   },
   {
    "duration": 20,
    "start_time": "2024-07-26T17:09:27.039Z"
   },
   {
    "duration": 3992,
    "start_time": "2024-07-26T17:09:27.678Z"
   },
   {
    "duration": 14,
    "start_time": "2024-07-26T17:09:31.674Z"
   },
   {
    "duration": 25,
    "start_time": "2024-07-26T17:09:31.691Z"
   },
   {
    "duration": 66,
    "start_time": "2024-07-26T17:09:31.721Z"
   },
   {
    "duration": 23,
    "start_time": "2024-07-26T17:09:31.790Z"
   },
   {
    "duration": 27,
    "start_time": "2024-07-26T17:09:32.903Z"
   },
   {
    "duration": 20,
    "start_time": "2024-07-26T17:09:33.556Z"
   },
   {
    "duration": 33,
    "start_time": "2024-07-26T17:09:34.798Z"
   },
   {
    "duration": 2329,
    "start_time": "2024-07-26T17:09:36.030Z"
   },
   {
    "duration": 34,
    "start_time": "2024-07-26T17:09:38.368Z"
   },
   {
    "duration": 16,
    "start_time": "2024-07-26T17:09:38.405Z"
   },
   {
    "duration": 402,
    "start_time": "2024-07-26T17:09:39.138Z"
   },
   {
    "duration": 537,
    "start_time": "2024-07-26T17:09:39.635Z"
   },
   {
    "duration": 580,
    "start_time": "2024-07-26T17:09:40.548Z"
   },
   {
    "duration": 419,
    "start_time": "2024-07-26T17:09:41.493Z"
   },
   {
    "duration": 10,
    "start_time": "2024-07-26T17:09:42.954Z"
   },
   {
    "duration": 13,
    "start_time": "2024-07-26T17:09:43.649Z"
   },
   {
    "duration": 18,
    "start_time": "2024-07-26T17:09:44.113Z"
   },
   {
    "duration": 19,
    "start_time": "2024-07-26T17:09:44.512Z"
   },
   {
    "duration": 18,
    "start_time": "2024-07-26T17:09:45.642Z"
   },
   {
    "duration": 19,
    "start_time": "2024-07-26T17:09:45.979Z"
   },
   {
    "duration": 15,
    "start_time": "2024-07-26T17:09:46.313Z"
   },
   {
    "duration": 14,
    "start_time": "2024-07-26T17:09:47.417Z"
   },
   {
    "duration": 15,
    "start_time": "2024-07-26T17:09:47.802Z"
   },
   {
    "duration": 16,
    "start_time": "2024-07-26T17:09:48.166Z"
   },
   {
    "duration": 11,
    "start_time": "2024-07-26T17:09:49.194Z"
   },
   {
    "duration": 10,
    "start_time": "2024-07-26T17:09:49.803Z"
   },
   {
    "duration": 4684,
    "start_time": "2024-07-26T20:32:36.548Z"
   },
   {
    "duration": 1124,
    "start_time": "2024-07-26T20:32:41.236Z"
   },
   {
    "duration": 0,
    "start_time": "2024-07-26T20:32:42.365Z"
   },
   {
    "duration": 0,
    "start_time": "2024-07-26T20:32:42.367Z"
   },
   {
    "duration": 0,
    "start_time": "2024-07-26T20:32:42.370Z"
   },
   {
    "duration": 0,
    "start_time": "2024-07-26T20:32:42.372Z"
   },
   {
    "duration": 0,
    "start_time": "2024-07-26T20:32:42.374Z"
   },
   {
    "duration": 0,
    "start_time": "2024-07-26T20:32:42.390Z"
   },
   {
    "duration": 0,
    "start_time": "2024-07-26T20:32:42.393Z"
   },
   {
    "duration": 0,
    "start_time": "2024-07-26T20:32:42.395Z"
   },
   {
    "duration": 0,
    "start_time": "2024-07-26T20:32:42.398Z"
   },
   {
    "duration": 0,
    "start_time": "2024-07-26T20:32:42.400Z"
   },
   {
    "duration": 0,
    "start_time": "2024-07-26T20:32:42.402Z"
   },
   {
    "duration": 0,
    "start_time": "2024-07-26T20:32:42.405Z"
   },
   {
    "duration": 0,
    "start_time": "2024-07-26T20:32:42.407Z"
   },
   {
    "duration": 0,
    "start_time": "2024-07-26T20:32:42.409Z"
   },
   {
    "duration": 0,
    "start_time": "2024-07-26T20:32:42.411Z"
   },
   {
    "duration": 0,
    "start_time": "2024-07-26T20:32:42.413Z"
   },
   {
    "duration": 0,
    "start_time": "2024-07-26T20:32:42.420Z"
   },
   {
    "duration": 0,
    "start_time": "2024-07-26T20:32:42.422Z"
   },
   {
    "duration": 0,
    "start_time": "2024-07-26T20:32:42.424Z"
   },
   {
    "duration": 0,
    "start_time": "2024-07-26T20:32:42.426Z"
   },
   {
    "duration": 0,
    "start_time": "2024-07-26T20:32:42.428Z"
   },
   {
    "duration": 0,
    "start_time": "2024-07-26T20:32:42.430Z"
   },
   {
    "duration": 0,
    "start_time": "2024-07-26T20:32:42.492Z"
   },
   {
    "duration": 0,
    "start_time": "2024-07-26T20:32:42.494Z"
   },
   {
    "duration": 0,
    "start_time": "2024-07-26T20:32:42.495Z"
   },
   {
    "duration": 0,
    "start_time": "2024-07-26T20:32:42.501Z"
   },
   {
    "duration": 0,
    "start_time": "2024-07-26T20:32:42.504Z"
   },
   {
    "duration": 0,
    "start_time": "2024-07-26T20:32:42.507Z"
   },
   {
    "duration": 0,
    "start_time": "2024-07-26T20:32:42.509Z"
   },
   {
    "duration": 0,
    "start_time": "2024-07-26T20:32:42.512Z"
   },
   {
    "duration": 0,
    "start_time": "2024-07-26T20:32:42.513Z"
   },
   {
    "duration": 0,
    "start_time": "2024-07-26T20:32:42.518Z"
   },
   {
    "duration": 1144,
    "start_time": "2024-07-26T20:41:04.704Z"
   },
   {
    "duration": 72,
    "start_time": "2024-07-26T20:41:05.854Z"
   },
   {
    "duration": 22,
    "start_time": "2024-07-26T20:41:05.929Z"
   },
   {
    "duration": 40,
    "start_time": "2024-07-26T20:41:05.956Z"
   },
   {
    "duration": 8,
    "start_time": "2024-07-26T20:41:05.998Z"
   },
   {
    "duration": 37,
    "start_time": "2024-07-26T20:41:06.009Z"
   },
   {
    "duration": 39,
    "start_time": "2024-07-26T20:41:06.051Z"
   },
   {
    "duration": 3945,
    "start_time": "2024-07-26T20:41:06.093Z"
   },
   {
    "duration": 12,
    "start_time": "2024-07-26T20:41:10.041Z"
   },
   {
    "duration": 48,
    "start_time": "2024-07-26T20:41:10.059Z"
   },
   {
    "duration": 23,
    "start_time": "2024-07-26T20:41:10.110Z"
   },
   {
    "duration": 20,
    "start_time": "2024-07-26T20:41:10.136Z"
   },
   {
    "duration": 51,
    "start_time": "2024-07-26T20:41:10.159Z"
   },
   {
    "duration": 18,
    "start_time": "2024-07-26T20:41:10.213Z"
   },
   {
    "duration": 65,
    "start_time": "2024-07-26T20:41:10.234Z"
   },
   {
    "duration": 2305,
    "start_time": "2024-07-26T20:41:10.302Z"
   },
   {
    "duration": 30,
    "start_time": "2024-07-26T20:41:12.610Z"
   },
   {
    "duration": 18,
    "start_time": "2024-07-26T20:41:12.643Z"
   },
   {
    "duration": 359,
    "start_time": "2024-07-26T20:41:12.664Z"
   },
   {
    "duration": 564,
    "start_time": "2024-07-26T20:41:13.026Z"
   },
   {
    "duration": 565,
    "start_time": "2024-07-26T20:41:13.593Z"
   },
   {
    "duration": 384,
    "start_time": "2024-07-26T20:41:14.161Z"
   },
   {
    "duration": 8,
    "start_time": "2024-07-26T20:41:14.548Z"
   },
   {
    "duration": 33,
    "start_time": "2024-07-26T20:41:14.559Z"
   },
   {
    "duration": 16,
    "start_time": "2024-07-26T20:41:14.595Z"
   },
   {
    "duration": 15,
    "start_time": "2024-07-26T20:41:14.614Z"
   },
   {
    "duration": 15,
    "start_time": "2024-07-26T20:41:14.632Z"
   },
   {
    "duration": 15,
    "start_time": "2024-07-26T20:41:14.695Z"
   },
   {
    "duration": 15,
    "start_time": "2024-07-26T20:41:14.714Z"
   },
   {
    "duration": 59,
    "start_time": "2024-07-26T20:41:14.732Z"
   },
   {
    "duration": 16,
    "start_time": "2024-07-26T20:41:14.794Z"
   },
   {
    "duration": 25,
    "start_time": "2024-07-26T20:41:14.813Z"
   },
   {
    "duration": 13,
    "start_time": "2024-07-26T20:41:14.842Z"
   },
   {
    "duration": 41,
    "start_time": "2024-07-26T20:41:14.858Z"
   },
   {
    "duration": 17,
    "start_time": "2024-07-26T20:42:46.660Z"
   },
   {
    "duration": 10,
    "start_time": "2024-07-26T20:48:29.599Z"
   },
   {
    "duration": 9,
    "start_time": "2024-07-26T20:48:44.226Z"
   },
   {
    "duration": 4775,
    "start_time": "2024-07-26T23:31:43.150Z"
   },
   {
    "duration": 66,
    "start_time": "2024-07-26T23:31:47.929Z"
   },
   {
    "duration": 25,
    "start_time": "2024-07-26T23:31:47.998Z"
   },
   {
    "duration": 20,
    "start_time": "2024-07-26T23:31:48.030Z"
   },
   {
    "duration": 4,
    "start_time": "2024-07-26T23:31:48.075Z"
   },
   {
    "duration": 35,
    "start_time": "2024-07-26T23:31:48.636Z"
   },
   {
    "duration": 13,
    "start_time": "2024-07-26T23:31:51.920Z"
   },
   {
    "duration": 3869,
    "start_time": "2024-07-26T23:31:53.922Z"
   },
   {
    "duration": 13,
    "start_time": "2024-07-26T23:31:57.794Z"
   },
   {
    "duration": 20,
    "start_time": "2024-07-26T23:31:57.830Z"
   },
   {
    "duration": 7,
    "start_time": "2024-07-26T23:32:01.086Z"
   },
   {
    "duration": 8,
    "start_time": "2024-07-26T23:33:59.684Z"
   },
   {
    "duration": 9,
    "start_time": "2024-07-26T23:34:25.519Z"
   },
   {
    "duration": 6,
    "start_time": "2024-07-26T23:34:39.339Z"
   },
   {
    "duration": 8,
    "start_time": "2024-07-26T23:37:06.991Z"
   },
   {
    "duration": 4,
    "start_time": "2024-07-26T23:41:03.442Z"
   },
   {
    "duration": 49,
    "start_time": "2024-07-26T23:41:04.393Z"
   },
   {
    "duration": 19,
    "start_time": "2024-07-26T23:41:06.565Z"
   },
   {
    "duration": 20,
    "start_time": "2024-07-26T23:41:07.479Z"
   },
   {
    "duration": 4,
    "start_time": "2024-07-26T23:41:07.966Z"
   },
   {
    "duration": 42,
    "start_time": "2024-07-26T23:41:08.429Z"
   },
   {
    "duration": 14,
    "start_time": "2024-07-26T23:41:09.629Z"
   },
   {
    "duration": 4123,
    "start_time": "2024-07-26T23:41:10.166Z"
   },
   {
    "duration": 12,
    "start_time": "2024-07-26T23:41:14.292Z"
   },
   {
    "duration": 44,
    "start_time": "2024-07-26T23:41:14.306Z"
   },
   {
    "duration": 8,
    "start_time": "2024-07-26T23:41:14.354Z"
   },
   {
    "duration": 23,
    "start_time": "2024-07-26T23:41:14.448Z"
   },
   {
    "duration": 26,
    "start_time": "2024-07-26T23:41:16.614Z"
   },
   {
    "duration": 23,
    "start_time": "2024-07-26T23:41:19.194Z"
   },
   {
    "duration": 18,
    "start_time": "2024-07-26T23:41:20.017Z"
   },
   {
    "duration": 40,
    "start_time": "2024-07-26T23:41:21.710Z"
   },
   {
    "duration": 552,
    "start_time": "2024-07-26T23:42:03.800Z"
   },
   {
    "duration": 19,
    "start_time": "2024-07-26T23:42:20.278Z"
   },
   {
    "duration": 20,
    "start_time": "2024-07-26T23:43:08.993Z"
   },
   {
    "duration": 298,
    "start_time": "2024-07-26T23:49:49.937Z"
   },
   {
    "duration": 293,
    "start_time": "2024-07-26T23:50:11.572Z"
   },
   {
    "duration": 7,
    "start_time": "2024-07-26T23:51:30.552Z"
   },
   {
    "duration": 4,
    "start_time": "2024-07-26T23:51:45.213Z"
   },
   {
    "duration": 49,
    "start_time": "2024-07-26T23:51:45.786Z"
   },
   {
    "duration": 18,
    "start_time": "2024-07-26T23:51:47.513Z"
   },
   {
    "duration": 20,
    "start_time": "2024-07-26T23:51:48.851Z"
   },
   {
    "duration": 4,
    "start_time": "2024-07-26T23:51:49.291Z"
   },
   {
    "duration": 34,
    "start_time": "2024-07-26T23:51:49.778Z"
   },
   {
    "duration": 11,
    "start_time": "2024-07-26T23:51:50.901Z"
   },
   {
    "duration": 3954,
    "start_time": "2024-07-26T23:51:51.238Z"
   },
   {
    "duration": 11,
    "start_time": "2024-07-26T23:51:55.195Z"
   },
   {
    "duration": 40,
    "start_time": "2024-07-26T23:51:55.209Z"
   },
   {
    "duration": 8,
    "start_time": "2024-07-26T23:51:55.252Z"
   },
   {
    "duration": 22,
    "start_time": "2024-07-26T23:51:55.262Z"
   },
   {
    "duration": 277,
    "start_time": "2024-07-26T23:51:56.485Z"
   },
   {
    "duration": 5,
    "start_time": "2024-07-26T23:51:58.864Z"
   },
   {
    "duration": 5,
    "start_time": "2024-07-26T23:53:10.590Z"
   },
   {
    "duration": 5,
    "start_time": "2024-07-26T23:57:01.588Z"
   },
   {
    "duration": 50,
    "start_time": "2024-07-26T23:57:02.806Z"
   },
   {
    "duration": 19,
    "start_time": "2024-07-26T23:57:05.174Z"
   },
   {
    "duration": 19,
    "start_time": "2024-07-26T23:57:06.749Z"
   },
   {
    "duration": 4,
    "start_time": "2024-07-26T23:57:07.181Z"
   },
   {
    "duration": 35,
    "start_time": "2024-07-26T23:57:07.676Z"
   },
   {
    "duration": 11,
    "start_time": "2024-07-26T23:57:08.715Z"
   },
   {
    "duration": 3965,
    "start_time": "2024-07-26T23:57:09.138Z"
   },
   {
    "duration": 27,
    "start_time": "2024-07-26T23:57:13.107Z"
   },
   {
    "duration": 21,
    "start_time": "2024-07-26T23:57:13.136Z"
   },
   {
    "duration": 6,
    "start_time": "2024-07-26T23:57:13.162Z"
   },
   {
    "duration": 24,
    "start_time": "2024-07-26T23:57:13.171Z"
   },
   {
    "duration": 322,
    "start_time": "2024-07-26T23:57:13.198Z"
   },
   {
    "duration": 24,
    "start_time": "2024-07-26T23:57:15.312Z"
   },
   {
    "duration": 17,
    "start_time": "2024-07-26T23:57:15.580Z"
   },
   {
    "duration": 34,
    "start_time": "2024-07-26T23:57:16.648Z"
   },
   {
    "duration": 2223,
    "start_time": "2024-07-26T23:57:17.576Z"
   },
   {
    "duration": 31,
    "start_time": "2024-07-26T23:57:19.806Z"
   },
   {
    "duration": 16,
    "start_time": "2024-07-26T23:57:21.103Z"
   },
   {
    "duration": 332,
    "start_time": "2024-07-26T23:57:22.346Z"
   },
   {
    "duration": 520,
    "start_time": "2024-07-26T23:57:23.302Z"
   },
   {
    "duration": 700,
    "start_time": "2024-07-26T23:57:24.805Z"
   },
   {
    "duration": 475,
    "start_time": "2024-07-26T23:57:27.329Z"
   },
   {
    "duration": 4728,
    "start_time": "2024-07-27T02:02:00.853Z"
   },
   {
    "duration": 85,
    "start_time": "2024-07-27T02:02:05.584Z"
   },
   {
    "duration": 31,
    "start_time": "2024-07-27T02:02:05.673Z"
   },
   {
    "duration": 27,
    "start_time": "2024-07-27T02:02:05.709Z"
   },
   {
    "duration": 5,
    "start_time": "2024-07-27T02:02:05.983Z"
   },
   {
    "duration": 36,
    "start_time": "2024-07-27T02:02:06.457Z"
   },
   {
    "duration": 12,
    "start_time": "2024-07-27T02:02:07.466Z"
   },
   {
    "duration": 3955,
    "start_time": "2024-07-27T02:02:07.945Z"
   },
   {
    "duration": 11,
    "start_time": "2024-07-27T02:02:11.903Z"
   },
   {
    "duration": 20,
    "start_time": "2024-07-27T02:02:11.932Z"
   },
   {
    "duration": 8,
    "start_time": "2024-07-27T02:02:11.957Z"
   },
   {
    "duration": 22,
    "start_time": "2024-07-27T02:02:11.968Z"
   },
   {
    "duration": 288,
    "start_time": "2024-07-27T02:02:13.505Z"
   },
   {
    "duration": 23,
    "start_time": "2024-07-27T02:02:16.873Z"
   },
   {
    "duration": 17,
    "start_time": "2024-07-27T02:02:17.853Z"
   },
   {
    "duration": 32,
    "start_time": "2024-07-27T02:02:20.140Z"
   },
   {
    "duration": 2308,
    "start_time": "2024-07-27T02:02:22.103Z"
   },
   {
    "duration": 29,
    "start_time": "2024-07-27T02:02:25.272Z"
   },
   {
    "duration": 17,
    "start_time": "2024-07-27T02:02:26.928Z"
   },
   {
    "duration": 335,
    "start_time": "2024-07-27T02:02:28.371Z"
   },
   {
    "duration": 523,
    "start_time": "2024-07-27T02:02:29.057Z"
   },
   {
    "duration": 550,
    "start_time": "2024-07-27T02:02:30.484Z"
   },
   {
    "duration": 446,
    "start_time": "2024-07-27T02:02:32.944Z"
   },
   {
    "duration": 437,
    "start_time": "2024-07-27T02:04:05.732Z"
   },
   {
    "duration": 9,
    "start_time": "2024-07-27T02:07:24.096Z"
   },
   {
    "duration": 14,
    "start_time": "2024-07-27T02:07:25.496Z"
   },
   {
    "duration": 16,
    "start_time": "2024-07-27T02:07:26.229Z"
   },
   {
    "duration": 15,
    "start_time": "2024-07-27T02:07:26.956Z"
   },
   {
    "duration": 15,
    "start_time": "2024-07-27T02:07:29.518Z"
   },
   {
    "duration": 14,
    "start_time": "2024-07-27T02:07:30.178Z"
   },
   {
    "duration": 15,
    "start_time": "2024-07-27T02:07:30.789Z"
   },
   {
    "duration": 14,
    "start_time": "2024-07-27T02:07:32.754Z"
   },
   {
    "duration": 13,
    "start_time": "2024-07-27T02:07:33.353Z"
   },
   {
    "duration": 14,
    "start_time": "2024-07-27T02:07:34.132Z"
   },
   {
    "duration": 10,
    "start_time": "2024-07-27T02:08:57.080Z"
   },
   {
    "duration": 11,
    "start_time": "2024-07-27T02:08:57.804Z"
   },
   {
    "duration": 6,
    "start_time": "2024-07-27T02:10:48.587Z"
   },
   {
    "duration": 7,
    "start_time": "2024-07-27T02:13:25.231Z"
   },
   {
    "duration": 22,
    "start_time": "2024-07-27T02:13:26.100Z"
   },
   {
    "duration": 273,
    "start_time": "2024-07-27T02:13:27.486Z"
   },
   {
    "duration": 22,
    "start_time": "2024-07-27T02:13:29.213Z"
   },
   {
    "duration": 19,
    "start_time": "2024-07-27T02:13:29.537Z"
   },
   {
    "duration": 30,
    "start_time": "2024-07-27T02:13:30.255Z"
   },
   {
    "duration": 2264,
    "start_time": "2024-07-27T02:13:31.106Z"
   },
   {
    "duration": 30,
    "start_time": "2024-07-27T02:13:33.375Z"
   },
   {
    "duration": 34,
    "start_time": "2024-07-27T02:13:33.409Z"
   },
   {
    "duration": 316,
    "start_time": "2024-07-27T02:13:33.938Z"
   },
   {
    "duration": 628,
    "start_time": "2024-07-27T02:13:34.288Z"
   },
   {
    "duration": 548,
    "start_time": "2024-07-27T02:13:35.050Z"
   },
   {
    "duration": 363,
    "start_time": "2024-07-27T02:13:36.022Z"
   },
   {
    "duration": 390,
    "start_time": "2024-07-27T02:13:36.403Z"
   },
   {
    "duration": 8,
    "start_time": "2024-07-27T02:13:38.505Z"
   },
   {
    "duration": 14,
    "start_time": "2024-07-27T02:13:39.400Z"
   },
   {
    "duration": 14,
    "start_time": "2024-07-27T02:13:39.895Z"
   },
   {
    "duration": 14,
    "start_time": "2024-07-27T02:13:40.314Z"
   },
   {
    "duration": 15,
    "start_time": "2024-07-27T02:13:41.626Z"
   },
   {
    "duration": 14,
    "start_time": "2024-07-27T02:13:42.045Z"
   },
   {
    "duration": 19,
    "start_time": "2024-07-27T02:13:42.323Z"
   },
   {
    "duration": 13,
    "start_time": "2024-07-27T02:13:43.816Z"
   },
   {
    "duration": 14,
    "start_time": "2024-07-27T02:13:44.860Z"
   },
   {
    "duration": 13,
    "start_time": "2024-07-27T02:13:47.294Z"
   },
   {
    "duration": 6,
    "start_time": "2024-07-27T02:13:56.263Z"
   },
   {
    "duration": 4,
    "start_time": "2024-07-27T02:15:27.651Z"
   },
   {
    "duration": 47,
    "start_time": "2024-07-27T02:15:28.543Z"
   },
   {
    "duration": 18,
    "start_time": "2024-07-27T02:15:30.290Z"
   },
   {
    "duration": 19,
    "start_time": "2024-07-27T02:15:31.410Z"
   },
   {
    "duration": 5,
    "start_time": "2024-07-27T02:15:31.759Z"
   },
   {
    "duration": 39,
    "start_time": "2024-07-27T02:15:32.113Z"
   },
   {
    "duration": 13,
    "start_time": "2024-07-27T02:15:32.845Z"
   },
   {
    "duration": 4037,
    "start_time": "2024-07-27T02:15:33.174Z"
   },
   {
    "duration": 20,
    "start_time": "2024-07-27T02:15:37.215Z"
   },
   {
    "duration": 20,
    "start_time": "2024-07-27T02:15:37.238Z"
   },
   {
    "duration": 7,
    "start_time": "2024-07-27T02:15:37.261Z"
   },
   {
    "duration": 59,
    "start_time": "2024-07-27T02:15:37.272Z"
   },
   {
    "duration": 273,
    "start_time": "2024-07-27T02:15:37.594Z"
   },
   {
    "duration": 22,
    "start_time": "2024-07-27T02:15:39.156Z"
   },
   {
    "duration": 18,
    "start_time": "2024-07-27T02:15:39.529Z"
   },
   {
    "duration": 31,
    "start_time": "2024-07-27T02:15:40.250Z"
   },
   {
    "duration": 2227,
    "start_time": "2024-07-27T02:15:41.168Z"
   },
   {
    "duration": 43,
    "start_time": "2024-07-27T02:15:43.399Z"
   },
   {
    "duration": 15,
    "start_time": "2024-07-27T02:15:43.513Z"
   },
   {
    "duration": 432,
    "start_time": "2024-07-27T02:15:44.221Z"
   },
   {
    "duration": 532,
    "start_time": "2024-07-27T02:15:44.656Z"
   },
   {
    "duration": 547,
    "start_time": "2024-07-27T02:15:45.455Z"
   },
   {
    "duration": 406,
    "start_time": "2024-07-27T02:15:46.750Z"
   },
   {
    "duration": 386,
    "start_time": "2024-07-27T02:15:47.300Z"
   },
   {
    "duration": 9,
    "start_time": "2024-07-27T02:15:49.978Z"
   },
   {
    "duration": 15,
    "start_time": "2024-07-27T02:15:50.899Z"
   },
   {
    "duration": 15,
    "start_time": "2024-07-27T02:15:51.360Z"
   },
   {
    "duration": 15,
    "start_time": "2024-07-27T02:15:51.730Z"
   },
   {
    "duration": 24,
    "start_time": "2024-07-27T02:15:52.916Z"
   },
   {
    "duration": 15,
    "start_time": "2024-07-27T02:15:53.313Z"
   },
   {
    "duration": 15,
    "start_time": "2024-07-27T02:15:53.555Z"
   },
   {
    "duration": 13,
    "start_time": "2024-07-27T02:15:54.941Z"
   },
   {
    "duration": 14,
    "start_time": "2024-07-27T02:15:55.589Z"
   },
   {
    "duration": 14,
    "start_time": "2024-07-27T02:15:56.332Z"
   },
   {
    "duration": 7,
    "start_time": "2024-07-27T02:15:56.893Z"
   },
   {
    "duration": 10,
    "start_time": "2024-07-27T02:15:59.651Z"
   },
   {
    "duration": 11,
    "start_time": "2024-07-27T02:16:01.834Z"
   },
   {
    "duration": 1736,
    "start_time": "2024-07-27T03:21:05.096Z"
   },
   {
    "duration": 495,
    "start_time": "2024-07-27T03:21:42.213Z"
   },
   {
    "duration": 593,
    "start_time": "2024-07-27T03:21:58.709Z"
   },
   {
    "duration": 5,
    "start_time": "2024-07-27T03:25:22.136Z"
   },
   {
    "duration": 7,
    "start_time": "2024-07-27T03:35:24.916Z"
   },
   {
    "duration": 7,
    "start_time": "2024-07-27T03:35:52.056Z"
   },
   {
    "duration": 5,
    "start_time": "2024-07-27T03:51:22.742Z"
   },
   {
    "duration": 47,
    "start_time": "2024-07-27T03:51:24.503Z"
   },
   {
    "duration": 20,
    "start_time": "2024-07-27T03:51:28.385Z"
   },
   {
    "duration": 18,
    "start_time": "2024-07-27T03:51:31.923Z"
   },
   {
    "duration": 4,
    "start_time": "2024-07-27T03:51:32.686Z"
   },
   {
    "duration": 35,
    "start_time": "2024-07-27T03:51:33.488Z"
   },
   {
    "duration": 13,
    "start_time": "2024-07-27T03:51:35.271Z"
   },
   {
    "duration": 3946,
    "start_time": "2024-07-27T03:51:36.136Z"
   },
   {
    "duration": 11,
    "start_time": "2024-07-27T03:51:40.085Z"
   },
   {
    "duration": 42,
    "start_time": "2024-07-27T03:51:40.099Z"
   },
   {
    "duration": 7,
    "start_time": "2024-07-27T03:51:41.110Z"
   },
   {
    "duration": 22,
    "start_time": "2024-07-27T03:51:41.913Z"
   },
   {
    "duration": 281,
    "start_time": "2024-07-27T03:51:44.336Z"
   },
   {
    "duration": 29,
    "start_time": "2024-07-27T03:52:02.029Z"
   },
   {
    "duration": 18,
    "start_time": "2024-07-27T03:52:02.765Z"
   },
   {
    "duration": 32,
    "start_time": "2024-07-27T03:52:04.121Z"
   },
   {
    "duration": 2263,
    "start_time": "2024-07-27T03:52:05.623Z"
   },
   {
    "duration": 34,
    "start_time": "2024-07-27T03:52:08.472Z"
   },
   {
    "duration": 16,
    "start_time": "2024-07-27T03:52:10.108Z"
   },
   {
    "duration": 330,
    "start_time": "2024-07-27T03:52:11.804Z"
   },
   {
    "duration": 527,
    "start_time": "2024-07-27T03:52:12.496Z"
   },
   {
    "duration": 558,
    "start_time": "2024-07-27T03:52:13.870Z"
   },
   {
    "duration": 374,
    "start_time": "2024-07-27T03:52:16.099Z"
   },
   {
    "duration": 413,
    "start_time": "2024-07-27T03:52:16.976Z"
   },
   {
    "duration": 8,
    "start_time": "2024-07-27T03:52:21.212Z"
   },
   {
    "duration": 15,
    "start_time": "2024-07-27T03:52:22.697Z"
   },
   {
    "duration": 14,
    "start_time": "2024-07-27T03:52:23.511Z"
   },
   {
    "duration": 14,
    "start_time": "2024-07-27T03:52:24.213Z"
   },
   {
    "duration": 15,
    "start_time": "2024-07-27T03:52:26.498Z"
   },
   {
    "duration": 14,
    "start_time": "2024-07-27T03:52:27.186Z"
   },
   {
    "duration": 15,
    "start_time": "2024-07-27T03:52:27.938Z"
   },
   {
    "duration": 15,
    "start_time": "2024-07-27T03:52:30.376Z"
   },
   {
    "duration": 13,
    "start_time": "2024-07-27T03:52:31.258Z"
   },
   {
    "duration": 14,
    "start_time": "2024-07-27T03:52:48.064Z"
   },
   {
    "duration": 6,
    "start_time": "2024-07-27T03:52:49.244Z"
   },
   {
    "duration": 746,
    "start_time": "2024-07-27T03:52:52.945Z"
   },
   {
    "duration": 9,
    "start_time": "2024-07-27T03:53:03.563Z"
   },
   {
    "duration": 11,
    "start_time": "2024-07-27T03:53:05.700Z"
   }
  ],
  "kernelspec": {
   "display_name": "Python 3 (ipykernel)",
   "language": "python",
   "name": "python3"
  },
  "language_info": {
   "codemirror_mode": {
    "name": "ipython",
    "version": 3
   },
   "file_extension": ".py",
   "mimetype": "text/x-python",
   "name": "python",
   "nbconvert_exporter": "python",
   "pygments_lexer": "ipython3",
   "version": "3.12.4"
  },
  "toc": {
   "base_numbering": 1,
   "nav_menu": {},
   "number_sections": true,
   "sideBar": true,
   "skip_h1_title": true,
   "title_cell": "Table of Contents",
   "title_sidebar": "Contents",
   "toc_cell": false,
   "toc_position": {},
   "toc_section_display": true,
   "toc_window_display": false
  }
 },
 "nbformat": 4,
 "nbformat_minor": 5
}
